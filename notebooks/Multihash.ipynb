{
 "cells": [
  {
   "cell_type": "code",
   "execution_count": 2,
   "id": "3e19c032-5b06-41cd-83dd-ae958c95627d",
   "metadata": {},
   "outputs": [],
   "source": [
    "import multihash\n",
    "import hashlib"
   ]
  },
  {
   "cell_type": "markdown",
   "id": "2a75124b-5dc6-489e-9a7d-cc09bc8464e5",
   "metadata": {},
   "source": [
    "# Steps\n",
    "1. Hashlib to calculate the hash\n",
    "2. Encode the hash/digest value with multihash \n",
    "3. Base encoding. "
   ]
  },
  {
   "cell_type": "code",
   "execution_count": null,
   "id": "04efbd93-df18-4189-9c78-d98f55c4f821",
   "metadata": {},
   "outputs": [],
   "source": [
    ">>> import hashlib\n",
    ">>> from multihash import multihash\n",
    ">>> some_data=str.encode(\"foobar\", 'utf-8')\n",
    ">>> hash = hashlib.sha256(some_data)\n",
    "<sha256 HASH object @ 0x7fcd544e89f0>\n",
    ">>> mhash = multihash.encode(hash.digest(), 'sha2-256')\n",
    "b'\\x12 \\xc3\\xab\\x8f\\xf17 \\xe8\\xad\\x90G\\xdd9Fk<\\x89t\\xe5\\x92\\xc2\\xfa8=J9`qL\\xae\\xf0\\xc4\\xf2'\n",
    ">>> mhash_base58 = multihash.to_b58_string(mhash)\n",
    "'QmbWTwYGcmdyK9CYfNBcfs9nhZs17a6FQ4Y8oea278xx41'\n",
    "\n",
    "# or use multibase, because who wants to remember how the hash is encoded?\n",
    ">>> from multibase import multibase\n",
    ">>> mhash_base64 = multibase.encode('base64', mhash)\n",
    "b'mEiDDq4/xNyDorZBH3TlGazyJdOWSwvo4PUo5YHFMrvDE8g'\n",
    "On a certain level I agree with this issue. But should there be hard dependency on hashlib when using multihash?\n",
    "Something that would already improve usability is if hashlib had a dict of hash functions, using the same keys as in multihash.constants.HASH_CODES. At the moment the key names in multihash.constants and the function names in hashlib are not exactly the same and manual translation is needed, which can be error prone."
   ]
  },
  {
   "cell_type": "code",
   "execution_count": 30,
   "id": "acb7ccd7-bd5f-4848-9bce-efd80c45a90d",
   "metadata": {},
   "outputs": [],
   "source": [
    "some_data=str.encode(\"pete\", 'utf-8')"
   ]
  },
  {
   "cell_type": "code",
   "execution_count": 31,
   "id": "cb2ed205-5123-4d97-96d0-c463ef688aeb",
   "metadata": {},
   "outputs": [],
   "source": [
    "hash = hashlib.sha256(some_data)"
   ]
  },
  {
   "cell_type": "code",
   "execution_count": 32,
   "id": "c98fcb26-3fe5-499f-89e0-7944394f32e2",
   "metadata": {},
   "outputs": [
    {
     "data": {
      "text/plain": [
       "'6cb912de5b6ef87cb3ecf92c13052d80d02ed91771e6e640625d759cd444e941'"
      ]
     },
     "execution_count": 32,
     "metadata": {},
     "output_type": "execute_result"
    }
   ],
   "source": [
    "hash.hexdigest()"
   ]
  },
  {
   "cell_type": "code",
   "execution_count": 33,
   "id": "036a4946-2bb4-455b-821d-ea1ceb4702cd",
   "metadata": {},
   "outputs": [],
   "source": [
    "mhash = multihash.encode(hash.digest(), 'sha2-256')"
   ]
  },
  {
   "cell_type": "code",
   "execution_count": 34,
   "id": "9ba61997-cfc8-4cc8-a5c2-36034276abfe",
   "metadata": {},
   "outputs": [
    {
     "data": {
      "text/plain": [
       "'12206cb912de5b6ef87cb3ecf92c13052d80d02ed91771e6e640625d759cd444e941'"
      ]
     },
     "execution_count": 34,
     "metadata": {},
     "output_type": "execute_result"
    }
   ],
   "source": [
    "mhash.hex()"
   ]
  },
  {
   "cell_type": "code",
   "execution_count": 35,
   "id": "4b3aa07e-1943-4501-bbea-9bb08a0dc805",
   "metadata": {},
   "outputs": [],
   "source": [
    "mhash_base58 = multihash.to_b58_string(mhash)"
   ]
  },
  {
   "cell_type": "code",
   "execution_count": 36,
   "id": "4e135087-17f0-4476-9f62-3b72c97bdd4c",
   "metadata": {},
   "outputs": [
    {
     "data": {
      "text/plain": [
       "'QmVf4RNZZqk5CVAKoxD4dJCHU9L2gTH6ZLrRJRroKbgdWg'"
      ]
     },
     "execution_count": 36,
     "metadata": {},
     "output_type": "execute_result"
    }
   ],
   "source": [
    "mhash_base58"
   ]
  },
  {
   "cell_type": "markdown",
   "id": "328f2cfe-bdc0-43e4-8987-5155f062e072",
   "metadata": {},
   "source": [
    "# Multibase, because who wants to remember how the hash is encoded?"
   ]
  },
  {
   "cell_type": "code",
   "execution_count": 19,
   "id": "40ea6871-21ea-460a-a8a4-cf929e2ae2f3",
   "metadata": {},
   "outputs": [],
   "source": [
    "from multibase import multibase"
   ]
  },
  {
   "cell_type": "code",
   "execution_count": 20,
   "id": "22ef3a06-6e43-499b-ac2c-54c6cce0a7fd",
   "metadata": {},
   "outputs": [],
   "source": [
    "mhash_base64 = multibase.encode('base64', mhash)"
   ]
  },
  {
   "cell_type": "code",
   "execution_count": 21,
   "id": "cdf27839-5a10-438b-8469-142557e985e6",
   "metadata": {},
   "outputs": [
    {
     "data": {
      "text/plain": [
       "b'mEiDDq4/xNyDorZBH3TlGazyJdOWSwvo4PUo5YHFMrvDE8g'"
      ]
     },
     "execution_count": 21,
     "metadata": {},
     "output_type": "execute_result"
    }
   ],
   "source": [
    "mhash_base64"
   ]
  },
  {
   "cell_type": "code",
   "execution_count": 22,
   "id": "801be114-699f-4051-bbe0-f4af6a4c87bb",
   "metadata": {},
   "outputs": [
    {
     "data": {
      "text/plain": [
       "'mEiDDq4/xNyDorZBH3TlGazyJdOWSwvo4PUo5YHFMrvDE8g'"
      ]
     },
     "execution_count": 22,
     "metadata": {},
     "output_type": "execute_result"
    }
   ],
   "source": [
    "mhash_base64.decode()"
   ]
  },
  {
   "cell_type": "code",
   "execution_count": null,
   "id": "8e526718-5636-48c4-b39d-ef1db690b7e9",
   "metadata": {},
   "outputs": [],
   "source": []
  }
 ],
 "metadata": {
  "kernelspec": {
   "display_name": "Python 3.7.0 64-bit",
   "language": "python",
   "name": "python3"
  },
  "language_info": {
   "codemirror_mode": {
    "name": "ipython",
    "version": 3
   },
   "file_extension": ".py",
   "mimetype": "text/x-python",
   "name": "python",
   "nbconvert_exporter": "python",
   "pygments_lexer": "ipython3",
   "version": "3.7.0"
  },
  "vscode": {
   "interpreter": {
    "hash": "e534e48711db4d1e1c48977d0d14ff85b1f16d41bcc4fdfd88268a329b3c9d66"
   }
  }
 },
 "nbformat": 4,
 "nbformat_minor": 5
}
