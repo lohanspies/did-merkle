{
 "cells": [
  {
   "cell_type": "markdown",
   "id": "e9e4612a-0f12-4c58-9bb0-b3d7e6fe9af9",
   "metadata": {},
   "source": [
    "# encoding a buffer"
   ]
  },
  {
   "cell_type": "code",
   "execution_count": 2,
   "id": "fb7edefd-cb38-48b9-9b47-de8a8969b388",
   "metadata": {},
   "outputs": [
    {
     "data": {
      "text/plain": [
       "b'zStV1DL6CwTryKyV'"
      ]
     },
     "execution_count": 2,
     "metadata": {},
     "output_type": "execute_result"
    }
   ],
   "source": [
    "from multibase import encode, decode\n",
    "encode('base58btc', 'hello world')"
   ]
  },
  {
   "cell_type": "code",
   "execution_count": 3,
   "id": "fffc48f9-488d-482c-8eb4-791377575871",
   "metadata": {},
   "outputs": [
    {
     "data": {
      "text/plain": [
       "b'maGVsbG8gd29ybGQ'"
      ]
     },
     "execution_count": 3,
     "metadata": {},
     "output_type": "execute_result"
    }
   ],
   "source": [
    "encode('base64', 'hello world')"
   ]
  },
  {
   "cell_type": "markdown",
   "id": "cc505f51-ddce-4e31-9cf1-1118916ade4b",
   "metadata": {},
   "source": [
    "# decoding a multibase"
   ]
  },
  {
   "cell_type": "code",
   "execution_count": 10,
   "id": "5079c5bf-5de2-4ca9-9136-697434862884",
   "metadata": {},
   "outputs": [
    {
     "data": {
      "text/plain": [
       "b'hello world'"
      ]
     },
     "execution_count": 10,
     "metadata": {},
     "output_type": "execute_result"
    }
   ],
   "source": [
    "decode('maGVsbG8gd29ybGQ')\n"
   ]
  },
  {
   "cell_type": "code",
   "execution_count": 11,
   "id": "080d6c2d-f696-4877-a663-ba919a53429c",
   "metadata": {},
   "outputs": [
    {
     "data": {
      "text/plain": [
       "b'hello world'"
      ]
     },
     "execution_count": 11,
     "metadata": {},
     "output_type": "execute_result"
    }
   ],
   "source": [
    "decode(b'zStV1DL6CwTryKyV')\n"
   ]
  },
  {
   "cell_type": "code",
   "execution_count": 12,
   "id": "690d3484-eec3-4879-b59f-abf06ee443ab",
   "metadata": {},
   "outputs": [
    {
     "data": {
      "text/plain": [
       "b'hello world'"
      ]
     },
     "execution_count": 12,
     "metadata": {},
     "output_type": "execute_result"
    }
   ],
   "source": [
    "decode(encode('base2', b'hello world'))\n"
   ]
  },
  {
   "cell_type": "code",
   "execution_count": null,
   "id": "82da83ba-7546-4930-820f-6af500e1f9c6",
   "metadata": {},
   "outputs": [],
   "source": []
  }
 ],
 "metadata": {
  "kernelspec": {
   "display_name": "Python 3 (ipykernel)",
   "language": "python",
   "name": "python3"
  },
  "language_info": {
   "codemirror_mode": {
    "name": "ipython",
    "version": 3
   },
   "file_extension": ".py",
   "mimetype": "text/x-python",
   "name": "python",
   "nbconvert_exporter": "python",
   "pygments_lexer": "ipython3",
   "version": "3.10.6"
  }
 },
 "nbformat": 4,
 "nbformat_minor": 5
}
