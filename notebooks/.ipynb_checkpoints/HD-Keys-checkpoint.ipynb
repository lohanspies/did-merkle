{
 "cells": [
  {
   "cell_type": "code",
   "execution_count": 1,
   "id": "5b1be9ec-add1-40ee-9a3d-76245d9597b2",
   "metadata": {},
   "outputs": [
    {
     "name": "stdout",
     "output_type": "stream",
     "text": [
      "{\n",
      "    \"cryptocurrency\": \"Bitcoin\",\n",
      "    \"symbol\": \"BTC\",\n",
      "    \"network\": \"mainnet\",\n",
      "    \"strength\": 160,\n",
      "    \"entropy\": \"f8e1386023828e76a4e2b42e17026cfdb90248d2\",\n",
      "    \"mnemonic\": \"호텔 결국 구청 반말 논쟁 면담 옆구리 부족 담배 적극 왼손 환영 연인 나흘 발톱\",\n",
      "    \"language\": \"korean\",\n",
      "    \"passphrase\": null,\n",
      "    \"seed\": \"68aa3f32469d0eace3b894b79f6af464e5bf6ff5fb9e7b713c3cea833af1b84980e1c70430bc44ea92791b077917761f6b56bd8ed0403a9e5b3ab9de44bc9edd\",\n",
      "    \"root_xprivate_key\": \"xprv9s21ZrQH143K3FMFsv5QrsRXoivvuu5mjC4DxMCZf6k9vCm7VFSVhWsGQBFxkG7bpGYqWSL799JjK4aVx4SEWnLrRKQuRWoDax59aYLXRBD\",\n",
      "    \"root_xpublic_key\": \"xpub661MyMwAqRbcFjRiywcRE1NGMkmRKMod6QypkjcBDSH8o16G2nkkFKBkFSFFFdwWzK9JaG9gSCmJptUEZgUv8nBfBMvk6DfjAHLNkWNfRxN\",\n",
      "    \"xprivate_key\": \"xprvA3ZW4bLivgwr678LWaR1ragpBe8uWWirSFGyxPeyF6Nc5op13nb5mrPbdxyQCw4td1jjPJDtxVrbnc8B9TSR8Q8L2nwtd4Qoi2VyuhmzT5h\",\n",
      "    \"xpublic_key\": \"xpub6GYrU6scm4W9JbCocbx2DidYjfyPuyShoUCakn4aoRuaxc99bKuLKei5VDcqFtdYjJDXeA6CyoVGouqV9VGtF8DuWzDZGjYkjWDEtrpjexN\",\n",
      "    \"uncompressed\": \"a7f43ca9708e9d544e3705d005f2d3cc7690b1d3fde607491331351c334b67d84108e4840690c7df680c46b515bc2f00381fa5fa78729ccc054be1c3fdff628c\",\n",
      "    \"compressed\": \"02a7f43ca9708e9d544e3705d005f2d3cc7690b1d3fde607491331351c334b67d8\",\n",
      "    \"chain_code\": \"7182088e88ccfebd7efe3f86de3d2731dd53ee7b551dd7d471960ca748bad1c2\",\n",
      "    \"private_key\": \"daaab85a0e70721825d9129069b7bc24cd5c9aae6b153606c899c97494644f7b\",\n",
      "    \"public_key\": \"02a7f43ca9708e9d544e3705d005f2d3cc7690b1d3fde607491331351c334b67d8\",\n",
      "    \"wif\": \"L4Ymew2VmeoXhNJCRnPkKUBaT5kwPgF9JFG1z1JWmubPo2P7vQxV\",\n",
      "    \"finger_print\": \"e49ebb31\",\n",
      "    \"semantic\": \"p2pkh\",\n",
      "    \"path\": \"m/44'/0'/0'/0/0\",\n",
      "    \"hash\": \"e49ebb31cc5d12cd5720ab6b86482b0e80a962da\",\n",
      "    \"addresses\": {\n",
      "        \"p2pkh\": \"1MqqDaSAxERGdQXRctM3CcLemRKhBeaTDT\",\n",
      "        \"p2sh\": \"34P9x2LkPCiG3GivnT8nKBDdBqgiV1KxFQ\",\n",
      "        \"p2wpkh\": \"bc1quj0tkvwvt5fv64eq4d4cvjptp6q2jck6py24tq\",\n",
      "        \"p2wpkh_in_p2sh\": \"3ArDRr1X5SoZzWt1GPyaqDZ4ZiNzqHVzwH\",\n",
      "        \"p2wsh\": \"bc1qfehwtxznpdmu58rmfav2gz5tnt4dyegdtvlu640tyehfnu9kzm2sgz9urd\",\n",
      "        \"p2wsh_in_p2sh\": \"3QGHjET6CAgYFawFyaP7fyFQhKejQp6jnv\"\n",
      "    }\n",
      "}\n"
     ]
    }
   ],
   "source": [
    "from hdwallet import HDWallet\n",
    "from hdwallet.utils import generate_entropy\n",
    "from hdwallet.symbols import BTC as SYMBOL\n",
    "from typing import Optional\n",
    "\n",
    "import json\n",
    "\n",
    "# Choose strength 128, 160, 192, 224 or 256\n",
    "STRENGTH: int = 160  # Default is 128\n",
    "# Choose language english, french, italian, spanish, chinese_simplified, chinese_traditional, japanese or korean\n",
    "LANGUAGE: str = \"korean\"  # Default is english\n",
    "# Generate new entropy hex string\n",
    "ENTROPY: str = generate_entropy(strength=STRENGTH)\n",
    "# Secret passphrase for mnemonic\n",
    "PASSPHRASE: Optional[str] = None  # \"meherett\"\n",
    "\n",
    "# Initialize Bitcoin mainnet HDWallet\n",
    "hdwallet: HDWallet = HDWallet(symbol=SYMBOL, use_default_path=False)\n",
    "# Get Bitcoin HDWallet from entropy\n",
    "hdwallet.from_entropy(\n",
    "    entropy=ENTROPY, language=LANGUAGE, passphrase=PASSPHRASE\n",
    ")\n",
    "\n",
    "# Derivation from path\n",
    "# hdwallet.from_path(\"m/44'/0'/0'/0/0\")\n",
    "# Or derivation from index\n",
    "hdwallet.from_index(44, hardened=True)\n",
    "hdwallet.from_index(0, hardened=True)\n",
    "hdwallet.from_index(0, hardened=True)\n",
    "hdwallet.from_index(0)\n",
    "hdwallet.from_index(0)\n",
    "\n",
    "# Print all Bitcoin HDWallet information's\n",
    "print(json.dumps(hdwallet.dumps(), indent=4, ensure_ascii=False))"
   ]
  },
  {
   "cell_type": "code",
   "execution_count": null,
   "id": "fec9fdb4-1253-4949-a1d8-3ffc48954217",
   "metadata": {},
   "outputs": [],
   "source": []
  }
 ],
 "metadata": {
  "kernelspec": {
   "display_name": "Python 3 (ipykernel)",
   "language": "python",
   "name": "python3"
  },
  "language_info": {
   "codemirror_mode": {
    "name": "ipython",
    "version": 3
   },
   "file_extension": ".py",
   "mimetype": "text/x-python",
   "name": "python",
   "nbconvert_exporter": "python",
   "pygments_lexer": "ipython3",
   "version": "3.10.6"
  }
 },
 "nbformat": 4,
 "nbformat_minor": 5
}
