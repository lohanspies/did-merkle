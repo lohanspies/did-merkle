{
 "cells": [
  {
   "cell_type": "markdown",
   "id": "691e6382-641b-4f2a-a70a-cb65519c99b5",
   "metadata": {},
   "source": [
    "# DID:merkle"
   ]
  },
  {
   "cell_type": "code",
   "execution_count": 539,
   "id": "2690c218-5399-4db8-b524-cab1fa036425",
   "metadata": {},
   "outputs": [],
   "source": [
    "from pymerkle import MerkleTree\n",
    "from multibase import encode, decode\n",
    "\n",
    "from hdwallet import BIP44HDWallet\n",
    "from hdwallet.cryptocurrencies import EthereumMainnet\n",
    "from hdwallet.derivations import BIP44Derivation\n",
    "from hdwallet.utils import generate_mnemonic\n",
    "from typing import Optional\n",
    "\n",
    "import hashlib\n",
    "from multihash import multihash\n",
    "import base58\n",
    "\n",
    "import json"
   ]
  },
  {
   "cell_type": "markdown",
   "id": "342621b6-7198-4db9-9f21-9ce5af48648c",
   "metadata": {},
   "source": [
    "## Generate Holder Wallets"
   ]
  },
  {
   "cell_type": "markdown",
   "id": "070b58da-bcb7-4f27-972c-32401e203e7e",
   "metadata": {},
   "source": [
    "### Juliet"
   ]
  },
  {
   "cell_type": "code",
   "execution_count": 420,
   "id": "1bc4d56c-6e29-4214-ae59-ff9254728732",
   "metadata": {},
   "outputs": [
    {
     "name": "stdout",
     "output_type": "stream",
     "text": [
      "Juliet\n",
      "Mnemonic: share display noodle ring essay laugh erode rebuild thank slogan magnet such\n",
      "Base HD Path:  m/44'/60'/0'/0/{address_index} \n",
      "\n"
     ]
    }
   ],
   "source": [
    "# Generate english mnemonic words\n",
    "MNEMONIC: str = generate_mnemonic(language=\"english\", strength=128)\n",
    "# Secret passphrase/password for mnemonic\n",
    "PASSPHRASE: Optional[str] = None  # \"meherett\"\n",
    "\n",
    "# Initialize Ethereum mainnet BIP44HDWallet\n",
    "bip44_hdwallet_juliet: BIP44HDWallet = BIP44HDWallet(cryptocurrency=EthereumMainnet)\n",
    "# Get Ethereum BIP44HDWallet from mnemonic\n",
    "bip44_hdwallet_juliet.from_mnemonic(\n",
    "    mnemonic=MNEMONIC, language=\"english\", passphrase=PASSPHRASE\n",
    ")\n",
    "# Clean default BIP44 derivation indexes/paths\n",
    "bip44_hdwallet_juliet.clean_derivation()\n",
    "\n",
    "print(\"Juliet\")\n",
    "print(\"Mnemonic:\", bip44_hdwallet_juliet.mnemonic())\n",
    "print(\"Base HD Path:  m/44'/60'/0'/0/{address_index}\", \"\\n\")"
   ]
  },
  {
   "cell_type": "markdown",
   "id": "15041496-b2f9-453c-b3b5-9373f3a43810",
   "metadata": {
    "tags": []
   },
   "source": [
    "### Federico"
   ]
  },
  {
   "cell_type": "code",
   "execution_count": 421,
   "id": "5bdc8396-9913-452f-bbcf-1576e3d04ee0",
   "metadata": {
    "tags": []
   },
   "outputs": [
    {
     "name": "stdout",
     "output_type": "stream",
     "text": [
      "Norma\n",
      "Mnemonic: repair coast album antenna hundred item prepare cluster submit account tool laugh\n",
      "Base HD Path:  m/44'/60'/0'/0/{address_index} \n",
      "\n"
     ]
    }
   ],
   "source": [
    "# Generate english mnemonic words\n",
    "MNEMONIC: str = generate_mnemonic(language=\"english\", strength=128)\n",
    "# Secret passphrase/password for mnemonic\n",
    "PASSPHRASE: Optional[str] = None  # \"meherett\"\n",
    "\n",
    "# Initialize Ethereum mainnet BIP44HDWallet\n",
    "bip44_hdwallet_federico: BIP44HDWallet = BIP44HDWallet(cryptocurrency=EthereumMainnet)\n",
    "# Get Ethereum BIP44HDWallet from mnemonic\n",
    "bip44_hdwallet_federico.from_mnemonic(\n",
    "    mnemonic=MNEMONIC, language=\"english\", passphrase=PASSPHRASE\n",
    ")\n",
    "# Clean default BIP44 derivation indexes/paths\n",
    "bip44_hdwallet_federico.clean_derivation()\n",
    "\n",
    "print(\"Norma\")\n",
    "print(\"Mnemonic:\", bip44_hdwallet_federico.mnemonic())\n",
    "print(\"Base HD Path:  m/44'/60'/0'/0/{address_index}\", \"\\n\")"
   ]
  },
  {
   "cell_type": "markdown",
   "id": "e720fb14-e432-4a04-9b31-1343cb8d1b3d",
   "metadata": {},
   "source": [
    "### Mario"
   ]
  },
  {
   "cell_type": "code",
   "execution_count": 422,
   "id": "810cada6-22bc-47fa-a414-f582adcd117c",
   "metadata": {},
   "outputs": [
    {
     "name": "stdout",
     "output_type": "stream",
     "text": [
      "Norma\n",
      "Mnemonic: alone vague act retreat prize judge rally leisure birth surface mind fiber\n",
      "Base HD Path:  m/44'/60'/0'/0/{address_index} \n",
      "\n"
     ]
    }
   ],
   "source": [
    "# Generate english mnemonic words\n",
    "MNEMONIC: str = generate_mnemonic(language=\"english\", strength=128)\n",
    "# Secret passphrase/password for mnemonic\n",
    "PASSPHRASE: Optional[str] = None  # \"meherett\"\n",
    "\n",
    "# Initialize Ethereum mainnet BIP44HDWallet\n",
    "bip44_hdwallet_mario: BIP44HDWallet = BIP44HDWallet(cryptocurrency=EthereumMainnet)\n",
    "# Get Ethereum BIP44HDWallet from mnemonic\n",
    "bip44_hdwallet_mario.from_mnemonic(\n",
    "    mnemonic=MNEMONIC, language=\"english\", passphrase=PASSPHRASE\n",
    ")\n",
    "# Clean default BIP44 derivation indexes/paths\n",
    "bip44_hdwallet_mario.clean_derivation()\n",
    "\n",
    "print(\"Norma\")\n",
    "print(\"Mnemonic:\", bip44_hdwallet_mario.mnemonic())\n",
    "print(\"Base HD Path:  m/44'/60'/0'/0/{address_index}\", \"\\n\")"
   ]
  },
  {
   "cell_type": "markdown",
   "id": "1fea8f1e-df73-4d62-813c-18f40c313cd2",
   "metadata": {},
   "source": [
    "### Generate public keys for Juliet, Federico and Mario"
   ]
  },
  {
   "cell_type": "code",
   "execution_count": 423,
   "id": "0ab56435-414f-4160-9777-83684c7c0e90",
   "metadata": {},
   "outputs": [],
   "source": [
    "# Get Ethereum BIP44HDWallet information's from address index\n",
    "\n",
    "juliet_pubkeys = {\"hd-path\":[],\"pubkey\":[]}\n",
    "federico_pubkeys = {\"hd-path\":[],\"pubkey\":[]}\n",
    "mario_pubkeys = {\"hd-path\":[],\"pubkey\":[]}\n",
    "\n",
    "for address_index in range(20):\n",
    "    # Derivation from Ethereum BIP44 derivation path\n",
    "    bip44_derivation: BIP44Derivation = BIP44Derivation(\n",
    "        cryptocurrency=EthereumMainnet, account=0, change=False, address=address_index\n",
    "    )\n",
    "    # Drive Ethereum BIP44HDWallet\n",
    "    bip44_hdwallet_juliet.from_path(path=bip44_derivation)\n",
    "    bip44_hdwallet_federico.from_path(path=bip44_derivation)\n",
    "    bip44_hdwallet_mario.from_path(path=bip44_derivation)\n",
    "    \n",
    "    # Add hd-key-index and public key to arrays\n",
    "    juliet_pubkeys[\"pubkey\"].append(bip44_hdwallet_juliet.public_key())\n",
    "    federico_pubkeys[\"pubkey\"].append(bip44_hdwallet_federico.public_key())\n",
    "    mario_pubkeys[\"pubkey\"].append(bip44_hdwallet_mario.public_key())\n",
    "    \n",
    "    # Clean derivation indexes/paths\n",
    "    bip44_hdwallet_juliet.clean_derivation()\n",
    "    bip44_hdwallet_federico.clean_derivation()\n",
    "    bip44_hdwallet_mario.clean_derivation()"
   ]
  },
  {
   "cell_type": "code",
   "execution_count": 424,
   "id": "341df44f-ce84-4412-97e8-93a5015a4306",
   "metadata": {
    "tags": []
   },
   "outputs": [
    {
     "data": {
      "text/plain": [
       "['03dc5113c6b3ec2cddf4a5971429d67f9373a20584fcf82b05c3939334c562be35',\n",
       " '026c99d540901ca7bf42c018dc242ad25548d238a145d026adc1e8a641ba58fcb3',\n",
       " '03cdae0ae4f0e8a270e172d6cab3578f92cf35e8ffb43d17ae083fab4fbfaf6bd8',\n",
       " '038c7308b596894272c527d918c6604b6762b0ea741af6c5df58979a4369706aad',\n",
       " '03737283eec347500632d073b1ce2379fc0664b0fb2560d44f567e27c5a7334d88',\n",
       " '026b07d67664596379872d32a3c1a09d1e4ac8ea34f532be095f08b08608a34414',\n",
       " '021888eb7450afcd6487da7745d5c22ee903367504b2f8417cac6d7900ddc2f446',\n",
       " '02c21084dea377ba76370397b0f7db498fd570eb226099a43f2aae9f6c76431f41',\n",
       " '0306f1f31094af9aa5fa1d72f4b02207c420751ff5f16241ee6ebaae698f99ebc6',\n",
       " '038eb64b5326252e4adb9e4d1eab216dd5f8f3b4af82b2f78b0687f0bd6d875be6',\n",
       " '037e75d324297f998bbc1e9662f6efa91d837519a668b67b78716c8b17547d5cb7',\n",
       " '03e0384df8f301401df8d6d9f743ebc65b9f1adbe0b4eb5f95d0451a5e1d58230d',\n",
       " '03452d97ba2426356a852d312f2ec826c4a01d3d4910060f5d58bf88d1a904a9a5',\n",
       " '02726628f732555deebdbe936f5769c443e82ac2666b9f115a4b0d348122a28422',\n",
       " '029fa0f6b0c8979b88c43296f0436b5498f45bb3f8de794196d754de8534057911',\n",
       " '027692be16775b9d6ef73b494a14e098beca4a2e46b95b00e5cc6e0713ac64fdcc',\n",
       " '03ca68fbb2c8130ac00499a3d6e5fae7344d06bd34b36e5b65d4afcc18a6c36072',\n",
       " '03f97ec1a2f819a075c9133705fc0c3fa658a7f9609e1229e1bf033540c75125c3',\n",
       " '03a5311ee077066ffe26ca67a76e2fd5f93e60e5b8e182011944fb4a3267b2a64c',\n",
       " '02a974a1eb0dbd9ccf3ae115ec267ce452587fa60962861a270088183b0a82e291']"
      ]
     },
     "execution_count": 424,
     "metadata": {},
     "output_type": "execute_result"
    }
   ],
   "source": [
    "juliet_pubkeys['pubkey']"
   ]
  },
  {
   "cell_type": "code",
   "execution_count": 425,
   "id": "f98636bc-c96f-454c-bc28-c3419cab5f01",
   "metadata": {
    "tags": []
   },
   "outputs": [
    {
     "data": {
      "text/plain": [
       "['027ccbf1b909c0cc8782fb7c981350366230653c06a85cd0078f3ff68815a03281',\n",
       " '03982e85e8245da06c7a16eb6594a6bc01d415a5ff0805f6b77e9e371f182dcfc7',\n",
       " '03ee3a9de438b9ba7fdb782a630456788b95500741bce51931ffff97a6e1aa6388',\n",
       " '027850135fd600c38cfb3550d3b42951383fbb447e5aad162df8164d4989cae2f4',\n",
       " '03eefcb9a6556683773caf9f86ccf32325ae5dfcdeda0680980a68cd5b4872a75c',\n",
       " '0325fe80f2a5bcc031a5c7e9656dc85f9c976714418110f2af407bcddd656e150d',\n",
       " '0269cdf2e6ce9092a9561c87ad84c87ff5f479a2309bf1b338fb07f2fa322d66a6',\n",
       " '0347bed9a766cec96b794b49cdcf933c49587c11360e14966478b7fa93054f77e4',\n",
       " '025e5f6fdce4b145b3cb63627f1b5334c5b97e2cacab4b5b3f3816379917e050eb',\n",
       " '03154841c889f69b8ae477ed69b62ee9ae5f2c55d0fe3f4ce48b04336ae494840e',\n",
       " '02434a80d2e25b0e76dfe9d3163ad8e4537e31e9909b71e143bfdadf62fb78c234',\n",
       " '03a81dea1f630597d0c36de52708960d3630af379742cc11a9e523b9532fe2a2ef',\n",
       " '03573afe14d8d8172437b80fe0313dcae39f4a80405c43b12d0223dbedf186ca21',\n",
       " '022bbf8d969ff534b8b6d234f0c7d19430e782c55af3b8db5b0bade20766f1d1f6',\n",
       " '03e4ef53ce90979478da2307d1b19932479d69379f1342c1fe528978881050f89e',\n",
       " '0324600cd363633f703312b926564b4b219d8bb985dab8d0290ba9ac9fba40b96d',\n",
       " '02e0d8c0c48b60012e43c507795306261ca159d1b832c29b89fbd48d005f9bc53a',\n",
       " '02f9be64f969dfe9d4f0ede989a91ff225553efa19f7c54905ecb51c5ef5e18883',\n",
       " '0238aea01e5431014fe065bb48ddd4b3fa21268216a2bd3e839ea82f77f5be6cfc',\n",
       " '02d6b7bd60aa5f93309e7f4d3054e773b36798c18c19b4295d4d1ac2c1efe66124']"
      ]
     },
     "execution_count": 425,
     "metadata": {},
     "output_type": "execute_result"
    }
   ],
   "source": [
    "federico_pubkeys['pubkey']"
   ]
  },
  {
   "cell_type": "code",
   "execution_count": 426,
   "id": "361260e6-40dd-4b79-a0d6-0072d562fa3f",
   "metadata": {},
   "outputs": [
    {
     "data": {
      "text/plain": [
       "['035d45f31ef8001d35618b5e8f82b1aeed3d67478cb971cc01374c9c446411b229',\n",
       " '02cc38d85e4e20a8746f799d3b2f6ee3c34856969b928796c4d74484f651b16e29',\n",
       " '03eaf27b51b8ab0f9e018702576b8f2f1774cc325efe5c128c6e85b6bd67b4637a',\n",
       " '036fce338f054c5c57ae745ea2e2c3127a1d8dd09c97bf0f0bcfc253760e61554c',\n",
       " '02a575d01fd4297208872fb846873590fb761127b3786802811c2db17699279ff2',\n",
       " '030d70324aa4474aa8b0f3c1cb5fc8390326e463d455124a726276b78bad1bbcb4',\n",
       " '02a576c2db736a42cd7e37ad1a72dd3225444b03327ed1bc3301211e55276b75c6',\n",
       " '03816791f6c36b252a9946ff4ac6c29fb1a70799eb47a33a90be5d0d03e410f510',\n",
       " '02689536625a0164a54e141e714b01b01448dfd86ac93ac750f98fc7038c10cd6b',\n",
       " '02b5e1ba45a69e7b57746f32b7e35fbfc9c26bfe59071a3b2b9cf16daae06a6844',\n",
       " '035ef50d1c4e3e98b746c9fc83dd7759861d1a52ae8e16197cc010da4b9d58c822',\n",
       " '03e5fcbfeebcd614ca9fa4b33e1d602f74f0ecc369217ba4c80015f2ccaee1c7ae',\n",
       " '0395e4105b4260ace5078296986771c7efd202b3c2758082e1f636b568cbbfaebe',\n",
       " '03581e81fa346e0f2208f4042a3b5c574efcefb481db5c1390f6645b2bec4eb237',\n",
       " '0322dd54437707cc626fdb1f336c40f0f3e4bae092c207a2602cd9c840cdc917f6',\n",
       " '03fe47586c6d0ccbbd2a94061fae9b3e845e719838fb1397009c38a8b10f0ba134',\n",
       " '025a803f64b0614da47bc270915d6aeaef0a8bc2cb5912e2be77866741f3a383c1',\n",
       " '03b5840b7bbdc2d80db9595df9ac256f0a9a505a814deb9e9b9cb2390dca0e9eac',\n",
       " '0382ad514b376aa216405324d6b4b59d43e8ad6b69915dd84ae92163ef2f7527df',\n",
       " '0349ddb0092601582752dab5ff8860d55fe4bf30ea31f1054f407719e09e6b50ab']"
      ]
     },
     "execution_count": 426,
     "metadata": {},
     "output_type": "execute_result"
    }
   ],
   "source": [
    "mario_pubkeys['pubkey']"
   ]
  },
  {
   "cell_type": "markdown",
   "id": "9e65f59b-af0c-4c10-abed-6ea2df256610",
   "metadata": {},
   "source": [
    "## Generate Array of pubkeys"
   ]
  },
  {
   "cell_type": "code",
   "execution_count": 427,
   "id": "785becd8-d2fe-4dba-9c9d-ae901807ffef",
   "metadata": {},
   "outputs": [],
   "source": [
    "group_pubkeys = alice_pubkeys['pubkey'] + bob_pubkeys['pubkey']"
   ]
  },
  {
   "cell_type": "code",
   "execution_count": 428,
   "id": "0bd6e1ed-e253-43a5-acce-a088afced846",
   "metadata": {},
   "outputs": [
    {
     "data": {
      "text/plain": [
       "['02bd4d14badab048a28e14f031b1cd24b51c1dc8dad672106a8b6a8e286bf60c59',\n",
       " '02b582c9a6bf428863b3836198bd8dec06c8b64beca6eb4e034a2e203d9a0c74e6',\n",
       " '032360d813f9e2ed4b9e4013f78727b49cbbe05eac7d8b205fe9e0c32f46aadb1d',\n",
       " '0276c5e239dc35bcca295da701d5b6df463bbc2448b40106777e8ab7c04eaed9b3',\n",
       " '03b9f8198342b5173a8425e299ec9d8af6d193b6ed06ca9b79827eebf4f4976110',\n",
       " '03f45762c82a9c41dc330ffec461a7324384e52845efd8a905f164252c8b877dfd',\n",
       " '02632efa0d5cea1aa1963fe0a3f6d0f493952c8998f79a6bfbf0884c7e37b96af8',\n",
       " '0309d2841c2463de773043d27dd50b5467e8efd14f8ab47988b9d543e3fca237e7',\n",
       " '0227428280b39a04d3260edb347af8346bbefe6733d7aaa0fd67d47f866fa8eabd',\n",
       " '0301d5896f309058bc66425436eecb451738b2c8343bca0933584183809901d7e3',\n",
       " '023075af3321570bbff19fce9d1a858ef1773e46c463d46469326ae9d0f4b3f707',\n",
       " '033297a6c03a9db1f2f23ddce2532ddb4fe60671da3612ff0c2f6a0af564a71c34',\n",
       " '03e9ed75878b24733af6c1d86dd3b2d6a27ab6f1c508a666ac8d5159679a312a7e',\n",
       " '031f1f79775735a7c9c694c8baf0f526c050442c7c69cf92f8ff8771599c7d075c',\n",
       " '03e295c814dac9d4c77d187087327098009a83fa87c35e082d891e296d951fcc28',\n",
       " '0316866e390d1e622011b0d9b5e2e3f45db8eaf1aba653ed61970479c9beb966f8',\n",
       " '03f36702724827855cbff606ba623a5c37c50122255c50af66f938057b533840cb',\n",
       " '03030e37647362c4e5a2d15d428bab0fe5338537c9ca133035e65d77f89c089d6b',\n",
       " '027aa0298e9c8de37591608d5a79b46928f493a4b51e26a4be230e516c44ea504c',\n",
       " '036d1cdc29b39717afd3ef9764ab3cf7c4c028ceadd6cb043505d8551c3a08b5ef',\n",
       " '037a928a132632870e044b31991d8b1efa2597a0426b0ed27efe3826c62918c147',\n",
       " '032cf73597f39f9d2f66369757363029c7bf0b9461c6505efff593f8daadae13dc',\n",
       " '02bc28eb8d24bfe9063f761ef16676bba8c6625b7569f64928b492ef14e48a64a2',\n",
       " '02092f18459bc30e1682dbcac5847124ea8e7027577faa7dc1893101d703962616',\n",
       " '023803ae16e7cbd36d221d1e32cdf487ddc8d13d95ea481eba6c797f0586030914',\n",
       " '02d8bd4429b30f13eaabd55eea100df8e6f1aecb9245283b31c9f300cd4d649437',\n",
       " '038aa38feb919a4098e7e4d6d8eef9bb37f41b5615769b54e35472acfcca02a5cc',\n",
       " '028c6d20d0e6f784220d891451b95cfb3f33a25684bfc3d192177e16a44027551c',\n",
       " '02bbe5c47377cde5e919391ce731bd0eb6bedea431a1fad143633780b917e701ae',\n",
       " '03b150dbbabdce200fade240f88e678076091f80559181ca1b763d8cce8f0ac177',\n",
       " '0297023d2aa4ab691f721df7d935c2043d17a2c0c48895be0819f6874a7649a66f',\n",
       " '03d2166e419c6af90827b442a2f952103b2a8852bb3901f0a1ddc25386d8d88e05',\n",
       " '0333763ae7f25f76dbb8820732b1ee2fe126f4118f4a34fc84e958cf779ceb9b8c',\n",
       " '03a8492f3697bdb5b48d19ab0a8de93cca8df47f2d1a361d1a403196627f86b3ea',\n",
       " '02739a854a8dddad19af1688c20dd33d20c46d4959ae01f6e63785f7f07437611c',\n",
       " '024de00118c0fe9c23f1150f76a67024a97aebfd20ace2c5a544b449bc9c9cb321',\n",
       " '0314b7021ae04629588e11f27295fa06d7acaea0c0363c09aa1b966d10e8aa8239',\n",
       " '0259c1c75bbe0aaba0eaee51a73da63e0f3075632eafa2ab6ce961eb8e34d7aca8',\n",
       " '025351c0abf86dc3d91ffe69809a89253271976abc1d56a13df2b84217b5fafa97',\n",
       " '027e5345bf350e4fc50bef7ad1b56659018cc1d5ace5941ac626f45ffd681f249e']"
      ]
     },
     "execution_count": 428,
     "metadata": {},
     "output_type": "execute_result"
    }
   ],
   "source": [
    "group_pubkeys"
   ]
  },
  {
   "cell_type": "markdown",
   "id": "7646edf7-d8b8-47e6-98a3-359c57fb077c",
   "metadata": {},
   "source": [
    "## Merkle-tree"
   ]
  },
  {
   "cell_type": "markdown",
   "id": "b913a59d-1c92-4d1f-bbea-014ffa73ba33",
   "metadata": {},
   "source": [
    "### Generate merkle-tree"
   ]
  },
  {
   "cell_type": "code",
   "execution_count": 429,
   "id": "dc166d78-5227-43c9-9eca-07653a23635c",
   "metadata": {},
   "outputs": [],
   "source": [
    "tree = MerkleTree()\n",
    "\n",
    "# Populate tree with some records\n",
    "for data in group_pubkeys:\n",
    "    tree.encrypt(data)"
   ]
  },
  {
   "cell_type": "code",
   "execution_count": 430,
   "id": "db34d520-a66f-4db3-a0d9-f2e2ddee69e3",
   "metadata": {},
   "outputs": [
    {
     "data": {
      "text/plain": [
       "{'hash_type': 'sha256',\n",
       " 'encoding': 'utf_8',\n",
       " 'security': True,\n",
       " 'hashes': ['592bf5d85dcee85a3f95963fce77eeacb27220d840da0f9f0472ed8cf8d60069',\n",
       "  'e9ee3a40e660a4c31bd22b374d9bede36d211d1d5f33bd1b79c5c4ab6612c136',\n",
       "  '59d0d20ad4b70b157abf06b5f769846ca845123bc195be1e3e2ae1667a7b221d',\n",
       "  '089e5560e15353c4ef60a5d168425cf3028153305b0df8f1587204a779be98f3',\n",
       "  'cc8a01de6fb99076ae6add30fb9f902470dea4e142dacf72fbea72fc4f47b78e',\n",
       "  '7de48886294841737f9229eac9939f0a4a4ef6acf8164cb23506bb72f9f3b47c',\n",
       "  'e68c728f23de252892eebe4e4054a17116db1c227fee21e886bf8292a18faf54',\n",
       "  '5dfa9e3623f590a1eeb0af9114f847bca7d22edd0e6cc3fb3854567b7fb301bf',\n",
       "  '5ca79a7d785c6e1f3b5bc35671852c18187127f2ba94e76b436b20c3abfd97d7',\n",
       "  '1dba86cd6891002629943f26a0447511653e61183cffec24b76eb5b82545d8a8',\n",
       "  '21f2dae6edd7782d50271b631eff5557f9f74bec8dfbeea9e233493a1d2d0498',\n",
       "  'd2d151cfc052de4f5b91c2a99b63d9e2d4322cc51e03fc14c7c0bbb6ba210d9b',\n",
       "  '80d937edc51d317aa077888e647fb3b6048ba512ae5e47241641465522c50614',\n",
       "  '83c1bd39ad2c37bc845d023b3f80d3d72b9e42b39b19cf035854f1217fc42ea5',\n",
       "  'e875cec96f4cc911619063da3d9d14e12f1e4f3ce8dd7fdae9a4d6b6604efe78',\n",
       "  '51ee929c02fba6485daf546457005cabc37e6c8d4e49ed13a69bb226149f8e35',\n",
       "  '7a7704b5b9c7ef042011b7e9747ab3d658fddaa53d038799d0779be117ae8ab8',\n",
       "  'cd24cebfdbb07ef4c22c491029c5b61a0e8a0e6b1a0dec2e1199f5e7ca48ac0a',\n",
       "  '3f826c5920bf747f5dde34d82c379c8134465abefa0815226cea2f2e1b279f6f',\n",
       "  '110e59e6f4c7a9b6f37fb6e6fbaae0021c6f415e59d178f9fd272bcaaf951037',\n",
       "  'c68f267b9199632aa5f61808b5e1f294a8e3dd19b55c5260d31fd46eaeed65d5',\n",
       "  '8f292726293b79c308c840a2275dfc472011013b8c9821a2816ae9d375f66376',\n",
       "  'b4bd7b0113f8eb57c9755bb2b186c583c6163b5f142ac9e6e89ec754738895ee',\n",
       "  'd4891085e45560a5b5a3a4f47569a427589b9025d66e2b54411c3c5f0b11220c',\n",
       "  '4cc88af7ad3abe89673110a909d59bea4ebe73312338c62d30708a923f77f299',\n",
       "  '3300d0b8a16e85e8c792bb7400e528d7f6ea8af8490eb3334cbd4815cf4970c5',\n",
       "  '4ea2734a2906ae94197db3c113107f53273a6e109b10d2436635d02603c0f449',\n",
       "  '48e7af10838153a63aeaa6da7a010d7fb66f64a92f4a175cb712a471bd7b2038',\n",
       "  '93f2e71dfc1060ce0baccdc1dbcea219e28bdd3a76b4396a565654f3664840a0',\n",
       "  '1e3b2a94021f6e0a5151b1ada0fe842d12aec8ef63f994e9c8e7544452f09a17',\n",
       "  '1db97411138150eeba19c6861e747da264d4017926a7dff31f8f94749f75fdcf',\n",
       "  'e008fbdc6d3d480512385a578e573af3bf38311b53d2264e713abcfcdadce7b8',\n",
       "  '0c69b409775db7d884d1fcc3ec0c4f5c057421e0df5a3c5a25cccfe33500edea',\n",
       "  '033e107491b89cd92c4ea85b1c6fd5a90f7e47f706674d46797451b3b48c7b55',\n",
       "  'b488b7db6dd782e5e8d62dc1cf91cf12d12d091bd1c15216894677848d84a359',\n",
       "  '5ccdfa8caa5f924df85fd16a011160aa6ba85a61e504a9172091b5411b9d2fbf',\n",
       "  '0dd04c5fa952e1263c01798fd5a323239490457cbe0f770dafcc196d201b5023',\n",
       "  'c463cb041b9032a288dbd643cef6ef4716f6481bc09474bff4fe18c62296e54d',\n",
       "  '5dc0e0e23bb09d401cc81db99fa69bed99b3fa2a986636722b8d4945180a62c6',\n",
       "  'd240bda082de0074a989f2ef03ca55e81ac819c1e5a1e88317b3ee0cdf1e200d']}"
      ]
     },
     "execution_count": 430,
     "metadata": {},
     "output_type": "execute_result"
    }
   ],
   "source": [
    "tree.serialize()"
   ]
  },
  {
   "cell_type": "code",
   "execution_count": 517,
   "id": "30eaacbb-4620-4e86-993c-f7b424f764c2",
   "metadata": {},
   "outputs": [
    {
     "name": "stdout",
     "output_type": "stream",
     "text": [
      "b'86fbd2399638605550d848239cb9d90227af34ae317efe1ee88be555ca6b2632'\n",
      "38366662643233393936333836303535353064383438323339636239643930323237616633346165333137656665316565383862653535356361366232363332\n",
      "b'86fbd2399638605550d848239cb9d90227af34ae317efe1ee88be555ca6b2632'\n"
     ]
    }
   ],
   "source": [
    "root_hash = tree.get_root_hash()\n",
    "print(root_hash)\n",
    "root_hash_hex = tree.get_root_hash().hex()\n",
    "print(root_hash_hex)\n",
    "root_hash_test = bytes.fromhex(root_hash_hex)\n",
    "print(root_hash_test)"
   ]
  },
  {
   "cell_type": "code",
   "execution_count": 518,
   "id": "618a4793-dbe1-4061-91d5-93ac7d2ac412",
   "metadata": {
    "collapsed": true,
    "jupyter": {
     "outputs_hidden": true
    },
    "tags": []
   },
   "outputs": [
    {
     "name": "stdout",
     "output_type": "stream",
     "text": [
      "\n",
      " └─86fbd2399638605550d848239cb9d90227af34ae317efe1ee88be555ca6b2632\n",
      "     ├──3ee2aa5e9dd96ecbc6b8bb91ee23f9d5bd5a910a8c6516b176abbc643ff31dc7\n",
      "     │    ├──f55bc421ab99f5777e4f4fd063d18671e2bac7af20127759e238557d4907447e\n",
      "     │    │    ├──8b327597cec1b3842294d87e87563380efcd5d380d848d0a02f545e5c4946ff2\n",
      "     │    │    │    ├──f5178150fce04e45c3c784eb7935b588498252a31f1b9bf5d82b6a4de4355dbd\n",
      "     │    │    │    │    ├──6e888073cb0d79c14e71acfaa24f31df0470f6a962324ab26f88d7aff8a3d300\n",
      "     │    │    │    │    │    ├──592bf5d85dcee85a3f95963fce77eeacb27220d840da0f9f0472ed8cf8d60069\n",
      "     │    │    │    │    │    └──e9ee3a40e660a4c31bd22b374d9bede36d211d1d5f33bd1b79c5c4ab6612c136\n",
      "     │    │    │    │    └──ca1564ed9994e3a4764eff773f6a64cc0ba100f9cc6e9553871ccef669905186\n",
      "     │    │    │    │         ├──59d0d20ad4b70b157abf06b5f769846ca845123bc195be1e3e2ae1667a7b221d\n",
      "     │    │    │    │         └──089e5560e15353c4ef60a5d168425cf3028153305b0df8f1587204a779be98f3\n",
      "     │    │    │    └──aa815babf6dd55711c388966a02bf458dbda0f4cbe15841a5dfd3cae7addc62a\n",
      "     │    │    │         ├──e74e9556e6cd53c0f485359cc2a13ae617b00dfe62b29fabf9bbed26a9e8cc2d\n",
      "     │    │    │              ├──cc8a01de6fb99076ae6add30fb9f902470dea4e142dacf72fbea72fc4f47b78e\n",
      "     │    │    │              └──7de48886294841737f9229eac9939f0a4a4ef6acf8164cb23506bb72f9f3b47c\n",
      "     │    │    │         └──69a96027341218ba3d9ef91183ecc472d0b4e42a190708003966cf6c7a33aee1\n",
      "     │    │    │              ├──e68c728f23de252892eebe4e4054a17116db1c227fee21e886bf8292a18faf54\n",
      "     │    │    │              └──5dfa9e3623f590a1eeb0af9114f847bca7d22edd0e6cc3fb3854567b7fb301bf\n",
      "     │    │    └──38995784d54baf0a43bc0e5ca87403e3e1106b7098a149e468a25d65af1db3ee\n",
      "     │    │         ├──bc2be00adc653efd35d62a64f461302377cfb62a1f294013c8efcd09f4d24b67\n",
      "     │    │              ├──53bdc2dc900d6bb574a10f0694e3254140babe4e35ac437dbea384bf4395da0c\n",
      "     │    │                   ├──5ca79a7d785c6e1f3b5bc35671852c18187127f2ba94e76b436b20c3abfd97d7\n",
      "     │    │                   └──1dba86cd6891002629943f26a0447511653e61183cffec24b76eb5b82545d8a8\n",
      "     │    │              └──a6a9288f350d9bc485ca6451fe63936ff609838bf7438680a688e703a6d0b006\n",
      "     │    │                   ├──21f2dae6edd7782d50271b631eff5557f9f74bec8dfbeea9e233493a1d2d0498\n",
      "     │    │                   └──d2d151cfc052de4f5b91c2a99b63d9e2d4322cc51e03fc14c7c0bbb6ba210d9b\n",
      "     │    │         └──45cbe8fc0e5c06afc0cd69525e623d1d27a2a2f06c0cc777f125079db78dd2e4\n",
      "     │    │              ├──cf4d05ebcdcf07cfca21ddcdaec7b8d23a9043cde7caa882700dec6759529acb\n",
      "     │    │                   ├──80d937edc51d317aa077888e647fb3b6048ba512ae5e47241641465522c50614\n",
      "     │    │                   └──83c1bd39ad2c37bc845d023b3f80d3d72b9e42b39b19cf035854f1217fc42ea5\n",
      "     │    │              └──1f670c3ddb702a3cc6391a0eaf0f2db147bbd9d01dbb4e60669b351518284dfc\n",
      "     │    │                   ├──e875cec96f4cc911619063da3d9d14e12f1e4f3ce8dd7fdae9a4d6b6604efe78\n",
      "     │    │                   └──51ee929c02fba6485daf546457005cabc37e6c8d4e49ed13a69bb226149f8e35\n",
      "     │    └──a35982386bd4f011ef106eae646702f366b6ceadb5f1b02e28b24befe7b16ea7\n",
      "     │         ├──7cca661bb22a84d132a32c61e836265488fdeb50b7cd9997c463ad7a3b9cff5c\n",
      "     │              ├──7a27fd0f1802b91e81d0d153e21a60e898ff366d77d1325329185f6dc2104d7f\n",
      "     │                   ├──904d6dc3202ae376cbb851e7e569a5fda89c87447ab8941169fa9a3abacbff79\n",
      "     │                        ├──7a7704b5b9c7ef042011b7e9747ab3d658fddaa53d038799d0779be117ae8ab8\n",
      "     │                        └──cd24cebfdbb07ef4c22c491029c5b61a0e8a0e6b1a0dec2e1199f5e7ca48ac0a\n",
      "     │                   └──42562791628788c2de09ed81d3ca2942b45097201c48b065f184db3fd6761267\n",
      "     │                        ├──3f826c5920bf747f5dde34d82c379c8134465abefa0815226cea2f2e1b279f6f\n",
      "     │                        └──110e59e6f4c7a9b6f37fb6e6fbaae0021c6f415e59d178f9fd272bcaaf951037\n",
      "     │              └──044c65a9746681a9cb88220da834a668fde1d52acb4551ad630cba38af35e889\n",
      "     │                   ├──9a0bca28d798264ddc244321810cb96c71b473a7b02e69accd7f0fc25d13d604\n",
      "     │                        ├──c68f267b9199632aa5f61808b5e1f294a8e3dd19b55c5260d31fd46eaeed65d5\n",
      "     │                        └──8f292726293b79c308c840a2275dfc472011013b8c9821a2816ae9d375f66376\n",
      "     │                   └──ad0b5b21da1e2ef7557493a7dd9c9e8df5562ab88a91a0612636c1e43a69a383\n",
      "     │                        ├──b4bd7b0113f8eb57c9755bb2b186c583c6163b5f142ac9e6e89ec754738895ee\n",
      "     │                        └──d4891085e45560a5b5a3a4f47569a427589b9025d66e2b54411c3c5f0b11220c\n",
      "     │         └──60f04028c1f80b1296a615078d425e783971df49109d8dc999df894a39fefb25\n",
      "     │              ├──75aabb3b05c2e69ab1cc4be65d7f0fce21f59e8ef0bc87212ca7689c5e11730b\n",
      "     │                   ├──bba6b4e11bc93f95f0eacfa5ba5c2c8e37d302bcde6dfd8742e289c9638a6976\n",
      "     │                        ├──4cc88af7ad3abe89673110a909d59bea4ebe73312338c62d30708a923f77f299\n",
      "     │                        └──3300d0b8a16e85e8c792bb7400e528d7f6ea8af8490eb3334cbd4815cf4970c5\n",
      "     │                   └──0ced4e45774cffbbd40f150e8629e126e09c1d2f8e008d22b1fe0c2168f28c8e\n",
      "     │                        ├──4ea2734a2906ae94197db3c113107f53273a6e109b10d2436635d02603c0f449\n",
      "     │                        └──48e7af10838153a63aeaa6da7a010d7fb66f64a92f4a175cb712a471bd7b2038\n",
      "     │              └──4cd7bf06ca7c0ad14de97a2d45dab63333e7800d56721c37f68d4bb8abb96a05\n",
      "     │                   ├──bc0ac0ce82330fcea1e9d92d832f2a21d914a7e80d998154081ef9e7084532f9\n",
      "     │                        ├──93f2e71dfc1060ce0baccdc1dbcea219e28bdd3a76b4396a565654f3664840a0\n",
      "     │                        └──1e3b2a94021f6e0a5151b1ada0fe842d12aec8ef63f994e9c8e7544452f09a17\n",
      "     │                   └──302f452803dfc6f4c8e5fbcbc2f559a69e071c0b6e8eb2379d7c7642f4af2ba5\n",
      "     │                        ├──1db97411138150eeba19c6861e747da264d4017926a7dff31f8f94749f75fdcf\n",
      "     │                        └──e008fbdc6d3d480512385a578e573af3bf38311b53d2264e713abcfcdadce7b8\n",
      "     └──ee53d735d500ffd2d5ef7ee9d913388e72693ae5d201a0bed29e03ff4eb08735\n",
      "          ├──77d8f896467cee4b5c194afe2e1f094098028ba7271b74f5ef039ae8cbb0f29a\n",
      "               ├──5c8399c925fc84012a18dd0dd162b0e1deedd8df5a8588a44d22e4c536780391\n",
      "                    ├──0c69b409775db7d884d1fcc3ec0c4f5c057421e0df5a3c5a25cccfe33500edea\n",
      "                    └──033e107491b89cd92c4ea85b1c6fd5a90f7e47f706674d46797451b3b48c7b55\n",
      "               └──6bc2f01464c89c7fd0edd88306b85fb0fc8b1a7a7e273a4ad59311176994cc1c\n",
      "                    ├──b488b7db6dd782e5e8d62dc1cf91cf12d12d091bd1c15216894677848d84a359\n",
      "                    └──5ccdfa8caa5f924df85fd16a011160aa6ba85a61e504a9172091b5411b9d2fbf\n",
      "          └──72d149600ab843cfa5031ef1497e7994d14ed4c8797021b3321f2e7789a50d87\n",
      "               ├──c0b56db75ad2aa8d6e9e06d231f49e755a2ba6dd5bfbceb126d37a32c1edca57\n",
      "                    ├──0dd04c5fa952e1263c01798fd5a323239490457cbe0f770dafcc196d201b5023\n",
      "                    └──c463cb041b9032a288dbd643cef6ef4716f6481bc09474bff4fe18c62296e54d\n",
      "               └──852d1a4c5cf85144201422b20c92b95a9e73895103d218729dcc0cfdfe3792fe\n",
      "                    ├──5dc0e0e23bb09d401cc81db99fa69bed99b3fa2a986636722b8d4945180a62c6\n",
      "                    └──d240bda082de0074a989f2ef03ca55e81ac819c1e5a1e88317b3ee0cdf1e200d\n",
      "\n"
     ]
    }
   ],
   "source": [
    "print(tree)"
   ]
  },
  {
   "cell_type": "markdown",
   "id": "7d3a261c-a2d6-4d44-94e2-3ffd045e76c1",
   "metadata": {},
   "source": [
    "### Multibase DID merkle-tree root encoding"
   ]
  },
  {
   "cell_type": "code",
   "execution_count": 519,
   "id": "83752013-2b8d-42cd-8973-851e6385994b",
   "metadata": {},
   "outputs": [],
   "source": [
    "root_hash_encoded = base58.b58encode(bytes.fromhex(root_hash.decode('utf8')))"
   ]
  },
  {
   "cell_type": "code",
   "execution_count": 520,
   "id": "7eaff0a3-653b-49b0-bc46-dd75708b34b7",
   "metadata": {},
   "outputs": [
    {
     "data": {
      "text/plain": [
       "b'A5vLvKtjBP7vUbz3zgM2aiaXP8LB5wms4ZbXzmnJtZzZ'"
      ]
     },
     "execution_count": 520,
     "metadata": {},
     "output_type": "execute_result"
    }
   ],
   "source": [
    "root_hash_encoded"
   ]
  },
  {
   "cell_type": "code",
   "execution_count": 521,
   "id": "6dd1f354-8687-40b2-b6e4-3461a1bdd0c6",
   "metadata": {},
   "outputs": [],
   "source": [
    "root_hash_decoded = base58.b58decode(root_hash_encoded).hex()"
   ]
  },
  {
   "cell_type": "code",
   "execution_count": 522,
   "id": "ff6cbca8-e6a3-4ae1-84a1-acc257e24a85",
   "metadata": {},
   "outputs": [
    {
     "data": {
      "text/plain": [
       "'86fbd2399638605550d848239cb9d90227af34ae317efe1ee88be555ca6b2632'"
      ]
     },
     "execution_count": 522,
     "metadata": {},
     "output_type": "execute_result"
    }
   ],
   "source": [
    "root_hash_decoded"
   ]
  },
  {
   "cell_type": "markdown",
   "id": "ba76b852-ae7c-4975-b98c-cacf1973e34b",
   "metadata": {},
   "source": [
    "# TODO: Look at multihash"
   ]
  },
  {
   "cell_type": "markdown",
   "id": "6685d16d-b9bc-47b9-8815-e06fdeebbeaa",
   "metadata": {},
   "source": [
    "## Create Merkle DID"
   ]
  },
  {
   "cell_type": "code",
   "execution_count": 525,
   "id": "690c497d-5d61-4468-8c62-dc42976b5e2a",
   "metadata": {},
   "outputs": [],
   "source": [
    "didmerkle = \"did:merkle:\" + root_hash_encoded.decode()"
   ]
  },
  {
   "cell_type": "code",
   "execution_count": 526,
   "id": "646366ac-ffb0-4db0-b925-6767341ca245",
   "metadata": {},
   "outputs": [
    {
     "data": {
      "text/plain": [
       "'did:merkle:A5vLvKtjBP7vUbz3zgM2aiaXP8LB5wms4ZbXzmnJtZzZ'"
      ]
     },
     "execution_count": 526,
     "metadata": {},
     "output_type": "execute_result"
    }
   ],
   "source": [
    "didmerkle"
   ]
  },
  {
   "cell_type": "markdown",
   "id": "4de3e4ea-d6ad-4832-9ece-62a6390c2f60",
   "metadata": {},
   "source": [
    "## Resolve DID"
   ]
  },
  {
   "cell_type": "code",
   "execution_count": 554,
   "id": "019e86c8-ef29-4083-bb43-b55a4080955b",
   "metadata": {},
   "outputs": [
    {
     "data": {
      "text/plain": [
       "dict"
      ]
     },
     "execution_count": 554,
     "metadata": {},
     "output_type": "execute_result"
    }
   ],
   "source": [
    "did_format_template = '''\n",
    "{\n",
    "  \"@context\": [\n",
    "    \"https://www.w3.org/ns/did/v1\",\n",
    "    \"https://w3id.org/security/suites/ed25519-2020/v1\",\n",
    "    \"https://hackmd.io/@JoeAndrieu/Hk_2NMmfi/download\"\n",
    "  ],\n",
    "  \"id\": \"did:merkle:zH3C2AVvLMv6gmMNam3uVAjZpfkcJCwDwnZn6z3wXmqPV\",\n",
    "  \"verificationMethod\": {\n",
    "    \"id\": \"#proof-1\",\n",
    "    \"type\": \"merkleProof\",\n",
    "    \"controller\": \"did:merkle:zH3C2AVvLMv6gmMNam3uVAjZpfkcJCwDwnZn6z3wXmqPV\",\n",
    "    \"merkleRoot\": \"zH3C2AVvLMv6gmMNam3uVAjZpfkcJCwDwnZn6z3wXmqPV\"\n",
    "  },\n",
    "  \"authentication\": \"#proof-1\",\n",
    "  \"attestationMethod\": \"#proof-1\",\n",
    "  \"capabilityDelegation\": \"#proof-1\",\n",
    "  \"capabilityInvocation\": \"#proof-1\"\n",
    "}\n",
    "'''\n",
    "did_format_json = json.loads(did_format_template)\n",
    "type(did_format_json)"
   ]
  },
  {
   "cell_type": "markdown",
   "id": "c1c285f4-5dab-445b-939a-35e64656ef50",
   "metadata": {},
   "source": [
    "### Construct Deterministic DID Document"
   ]
  },
  {
   "cell_type": "code",
   "execution_count": 555,
   "id": "f4e2d265-d21b-44d1-a9f8-735797f22242",
   "metadata": {},
   "outputs": [],
   "source": [
    "did_format_json[\"id\"] = didmerkle\n",
    "did_format_json[\"verificationMethod\"][\"controller\"] = didmerkle\n",
    "did_format_json[\"verificationMethod\"][\"merkleRoot\"] = root_hash_encoded.decode()"
   ]
  },
  {
   "cell_type": "code",
   "execution_count": 556,
   "id": "a19e2c43-9a31-439c-996b-10a50e3566c5",
   "metadata": {},
   "outputs": [
    {
     "data": {
      "text/plain": [
       "{'@context': ['https://www.w3.org/ns/did/v1',\n",
       "  'https://w3id.org/security/suites/ed25519-2020/v1',\n",
       "  'https://hackmd.io/@JoeAndrieu/Hk_2NMmfi/download'],\n",
       " 'id': 'did:merkle:A5vLvKtjBP7vUbz3zgM2aiaXP8LB5wms4ZbXzmnJtZzZ',\n",
       " 'verificationMethod': {'id': '#proof-1',\n",
       "  'type': 'merkleProof',\n",
       "  'controller': 'did:merkle:A5vLvKtjBP7vUbz3zgM2aiaXP8LB5wms4ZbXzmnJtZzZ',\n",
       "  'merkleRoot': 'A5vLvKtjBP7vUbz3zgM2aiaXP8LB5wms4ZbXzmnJtZzZ'},\n",
       " 'authentication': '#proof-1',\n",
       " 'attestationMethod': '#proof-1',\n",
       " 'capabilityDelegation': '#proof-1',\n",
       " 'capabilityInvocation': '#proof-1'}"
      ]
     },
     "execution_count": 556,
     "metadata": {},
     "output_type": "execute_result"
    }
   ],
   "source": [
    "did_format_json"
   ]
  },
  {
   "cell_type": "markdown",
   "id": "82b3e185-62e5-460c-83fe-b30074fba27e",
   "metadata": {},
   "source": [
    "# Issue Verifiable Credential to Holders"
   ]
  },
  {
   "cell_type": "markdown",
   "id": "479c4b93-9ab3-4c22-a72e-1d0bd488c27b",
   "metadata": {},
   "source": [
    "## VC Template"
   ]
  },
  {
   "cell_type": "code",
   "execution_count": 557,
   "id": "72acf7f0-9a41-449a-bd29-8bcb72ac5bb2",
   "metadata": {},
   "outputs": [
    {
     "data": {
      "text/plain": [
       "dict"
      ]
     },
     "execution_count": 557,
     "metadata": {},
     "output_type": "execute_result"
    }
   ],
   "source": [
    "vc_format_template = '''\n",
    "{\n",
    "  \"@context\": [\n",
    "    \"https://www.w3.org/2018/credentials/v1\",\n",
    "    \"https://www.w3.org/2018/credentials/examples/v1\",\n",
    "    \"https://hackmd.io/@JoeAndrieu/Hk_2NMmfi/download\"\n",
    "  ],\n",
    "  \"type\": [\n",
    "    \"VerifiableCredential\"\n",
    "  ],\n",
    "  \"issuer\": \"did:ex:italy\",\n",
    "  \"issuanceDate\": \"2010-01-01T19:23:24Z\",\n",
    "  \"credentialSubject\": {\n",
    "    \"@context\": \"https://hackmd.io/@JoeAndrieu/r1ADDMQGs/download\",\n",
    "    \"id\": \"did:merkle:zH3C2AVvLMv6gmMNam3uVAjZpfkcJCwDwnZn6z3wXmqPV\",\n",
    "    \"citizenship\": \"it\"\n",
    "  },\n",
    "  \"proof\": {\n",
    "    \"type\": \"RsaSignature2018\",\n",
    "    \"created\": \"2017-06-18T21:19:10Z\",\n",
    "    \"proofPurpose\": \"assertionMethod\",\n",
    "    \"verificationMethod\": \"did:ex:italy#key-1\",\n",
    "    \"proof\": \"eyJhbGciOiJSUzI1NiIsImI2NCI6ZmFsc2UsImNyaXQiOlsiYjY0Il19..TCYt5XsITJX1CxPCT8yAV-TVkIEq_PbChOMqsLfRoPsnsgw5WEuts01mq-pQy7UJiN5mgRxD-WUcX16dUEMGlv50aqzpqh4Qktb3rk-BuQy72IFLOqV0G_zS245-kronKb78cPN25DGlcTwLtjPAYuNzVBAh4vGHSrQyHUdBBPM\"\n",
    "  }\n",
    "}\n",
    "'''\n",
    "vc_format_template_json = json.loads(vc_format_template)\n",
    "type(vc_format_template_json)"
   ]
  },
  {
   "cell_type": "markdown",
   "id": "ac39bfac-4d2a-4e56-9e84-03ade2233654",
   "metadata": {},
   "source": [
    "## Create DID of Issuer"
   ]
  },
  {
   "cell_type": "code",
   "execution_count": 583,
   "id": "dcd11f07-468b-4cd9-adb0-51c5b18184b6",
   "metadata": {},
   "outputs": [
    {
     "name": "stdout",
     "output_type": "stream",
     "text": [
      "{'@context': 'https://www.w3.org/2018/credentials/v1', 'id': 'http://example.org/credentials/3731', 'type': ['VerifiableCredential'], 'credentialSubject': {'id': 'did:merkle:A5vLvKtjBP7vUbz3zgM2aiaXP8LB5wms4ZbXzmnJtZzZ'}, 'issuer': 'did:key:z6MkjUBJJ48eweKRoXSujyBAmBqAUdXBtSh8PZ2bniBfXcTS', 'issuanceDate': '2020-08-19T21:41:50Z', 'proof': {'type': 'Ed25519Signature2018', 'proofPurpose': 'assertionMethod', 'verificationMethod': 'did:key:z6MkjUBJJ48eweKRoXSujyBAmBqAUdXBtSh8PZ2bniBfXcTS#z6MkjUBJJ48eweKRoXSujyBAmBqAUdXBtSh8PZ2bniBfXcTS', 'created': '2022-09-29T15:03:34.269Z', 'jws': 'eyJhbGciOiJFZERTQSIsImNyaXQiOlsiYjY0Il0sImI2NCI6ZmFsc2V9..JJS1lkdQN1wv7Ps6MbTxKOnDfcCUUZp4Dgn1TZ7gXQVKgvztkAaUEqUOubPiA91OsPNVtPhAPQxtZgwM06xaAw'}}\n"
     ]
    }
   ],
   "source": [
    "import asyncio\n",
    "import didkit\n",
    "import json\n",
    "\n",
    "jwk = didkit.generate_ed25519_key()\n",
    "did = didkit.key_to_did(\"key\", jwk)\n",
    "# credential = {\n",
    "#     \"@context\": \"https://www.w3.org/2018/credentials/v1\",\n",
    "#     \"id\": \"http://example.org/credentials/3731\",\n",
    "#     \"type\": [\"VerifiableCredential\"],\n",
    "#     \"issuer\": did,\n",
    "#     \"issuanceDate\": \"2020-08-19T21:41:50Z\",\n",
    "#     \"credentialSubject\": {\n",
    "#         \"id\": didmerkle,\n",
    "#     },\n",
    "# }\n",
    "\n",
    "credential = {\n",
    "  \"@context\": \"https://www.w3.org/2018/credentials/v1\",\n",
    "  \"id\": \"http://example.org/credentials/3731\",\n",
    "  \"type\": [\n",
    "    \"VerifiableCredential\"\n",
    "  ],\n",
    "  \"issuer\": did,\n",
    "  \"issuanceDate\": \"2020-08-19T21:41:50Z\",\n",
    "  \"credentialSubject\": {\n",
    "    \"id\": didmerkle\n",
    "  }\n",
    "}\n",
    "\n",
    "async def main():\n",
    "    signed_credential = await didkit.issue_credential(\n",
    "        json.dumps(credential),\n",
    "        json.dumps({}),\n",
    "        jwk)\n",
    "    print(json.loads(signed_credential))\n",
    "\n",
    "await(main())"
   ]
  },
  {
   "cell_type": "code",
   "execution_count": 567,
   "id": "ae0c81c7-c9ed-4fd4-a0b5-c13c9e4dff8c",
   "metadata": {},
   "outputs": [
    {
     "name": "stderr",
     "output_type": "stream",
     "text": [
      "unknown context https://hackmd.io/@JoeAndrieu/Hk_2NMmfi/download\n"
     ]
    },
    {
     "ename": "DIDKitException",
     "evalue": "loading remote context failed",
     "output_type": "error",
     "traceback": [
      "\u001b[0;31m---------------------------------------------------------------------------\u001b[0m",
      "\u001b[0;31mDIDKitException\u001b[0m                           Traceback (most recent call last)",
      "Input \u001b[0;32mIn [567]\u001b[0m, in \u001b[0;36m<cell line: 39>\u001b[0;34m()\u001b[0m\n\u001b[1;32m     33\u001b[0m     signed_credential \u001b[38;5;241m=\u001b[39m \u001b[38;5;28;01mawait\u001b[39;00m didkit\u001b[38;5;241m.\u001b[39missue_credential(\n\u001b[1;32m     34\u001b[0m         json\u001b[38;5;241m.\u001b[39mdumps(credential),\n\u001b[1;32m     35\u001b[0m         json\u001b[38;5;241m.\u001b[39mdumps({}),\n\u001b[1;32m     36\u001b[0m         jwk)\n\u001b[1;32m     37\u001b[0m     \u001b[38;5;28mprint\u001b[39m(json\u001b[38;5;241m.\u001b[39mloads(signed_credential))\n\u001b[0;32m---> 39\u001b[0m \u001b[38;5;28;01mawait\u001b[39;00m(main())\n",
      "Input \u001b[0;32mIn [567]\u001b[0m, in \u001b[0;36mmain\u001b[0;34m()\u001b[0m\n\u001b[1;32m     32\u001b[0m \u001b[38;5;28;01masync\u001b[39;00m \u001b[38;5;28;01mdef\u001b[39;00m \u001b[38;5;21mmain\u001b[39m():\n\u001b[0;32m---> 33\u001b[0m     signed_credential \u001b[38;5;241m=\u001b[39m \u001b[38;5;28;01mawait\u001b[39;00m didkit\u001b[38;5;241m.\u001b[39missue_credential(\n\u001b[1;32m     34\u001b[0m         json\u001b[38;5;241m.\u001b[39mdumps(credential),\n\u001b[1;32m     35\u001b[0m         json\u001b[38;5;241m.\u001b[39mdumps({}),\n\u001b[1;32m     36\u001b[0m         jwk)\n\u001b[1;32m     37\u001b[0m     \u001b[38;5;28mprint\u001b[39m(json\u001b[38;5;241m.\u001b[39mloads(signed_credential))\n",
      "\u001b[0;31mDIDKitException\u001b[0m: loading remote context failed"
     ]
    }
   ],
   "source": [
    "import asyncio\n",
    "import didkit\n",
    "import json\n",
    "\n",
    "jwk = didkit.generate_ed25519_key()\n",
    "did = didkit.key_to_did(\"key\", jwk)\n",
    "credential = {\n",
    "  \"@context\": [\n",
    "    \"https://www.w3.org/2018/credentials/v1\",\n",
    "    \"https://www.w3.org/2018/credentials/examples/v1\",\n",
    "    \"https://hackmd.io/@JoeAndrieu/Hk_2NMmfi/download\"\n",
    "  ],\n",
    "  \"type\": [\n",
    "    \"VerifiableCredential\"\n",
    "  ],\n",
    "  \"issuer\": did,\n",
    "  \"issuanceDate\": \"2010-01-01T19:23:24Z\",\n",
    "  \"credentialSubject\": {\n",
    "    \"@context\": \"https://hackmd.io/@JoeAndrieu/r1ADDMQGs/download\",\n",
    "    \"id\": didmerkle,\n",
    "    \"citizenship\": \"it\"\n",
    "  },\n",
    "  \"proof\": {\n",
    "    \"type\": \"RsaSignature2018\",\n",
    "    \"created\": \"2017-06-18T21:19:10Z\",\n",
    "    \"proofPurpose\": \"assertionMethod\",\n",
    "    \"verificationMethod\": \"did:ex:italy#key-1\",\n",
    "    \"proof\": \"eyJhbGciOiJSUzI1NiIsImI2NCI6ZmFsc2UsImNyaXQiOlsiYjY0Il19..TCYt5XsITJX1CxPCT8yAV-TVkIEq_PbChOMqsLfRoPsnsgw5WEuts01mq-pQy7UJiN5mgRxD-WUcX16dUEMGlv50aqzpqh4Qktb3rk-BuQy72IFLOqV0G_zS245-kronKb78cPN25DGlcTwLtjPAYuNzVBAh4vGHSrQyHUdBBPM\"\n",
    "  }\n",
    "}\n",
    "\n",
    "async def main():\n",
    "    signed_credential = await didkit.issue_credential(\n",
    "        json.dumps(credential),\n",
    "        json.dumps({}),\n",
    "        jwk)\n",
    "    print(json.loads(signed_credential))\n",
    "\n",
    "await(main())"
   ]
  },
  {
   "cell_type": "markdown",
   "id": "03b62c04-be53-45e6-a519-0d66b1b8c1ce",
   "metadata": {},
   "source": [
    "### Prove and verify encryption of `Alice Pubkey 5`"
   ]
  },
  {
   "cell_type": "code",
   "execution_count": 349,
   "id": "ffbda00e-f05b-47be-9f63-5c42fa2893ce",
   "metadata": {},
   "outputs": [
    {
     "data": {
      "text/plain": [
       "b'abef02dc71407ebfd2b1d4d5994de34d635a24dd7f580ccad580159e9277b5a0'"
      ]
     },
     "execution_count": 349,
     "metadata": {},
     "output_type": "execute_result"
    }
   ],
   "source": [
    "# TODO: Generate hashes from pubkeys that can be used in merkle-trees\n",
    "m = hashlib.sha256()\n",
    "m.update(alice_pubkeys['pubkey'][4].encode())\n",
    "m.hexdigest().encode()"
   ]
  },
  {
   "cell_type": "code",
   "execution_count": 384,
   "id": "9a2f980b-df73-4d06-9a43-163dacd568bf",
   "metadata": {},
   "outputs": [
    {
     "data": {
      "text/plain": [
       "True"
      ]
     },
     "execution_count": 384,
     "metadata": {},
     "output_type": "execute_result"
    }
   ],
   "source": [
    "challenge = tree.serialize()[\"hashes\"][5].encode()\n",
    "proof = tree.generate_audit_proof(challenge)\n",
    "proof.verify()"
   ]
  },
  {
   "cell_type": "code",
   "execution_count": 365,
   "id": "5dbe1578-f3cb-4f88-9d0c-28f29d820609",
   "metadata": {},
   "outputs": [
    {
     "data": {
      "text/plain": [
       "\n",
       "    ----------------------------------- PROOF ------------------------------------\n",
       "\n",
       "    uuid        : 616e79a4-3f75-11ed-a675-0242ac110002\n",
       "\n",
       "    timestamp   : 1664400889 (Wed Sep 28 21:34:49 2022)\n",
       "    provider    : fcef7358-3f73-11ed-a675-0242ac110002\n",
       "\n",
       "    hash-type   : SHA256\n",
       "    encoding    : UTF-8\n",
       "    security    : ACTIVATED\n",
       "\n",
       "    \n",
       "       [0]   +1   7618cd8c59e5f61ce0316dcb4444254fd313446e83495597986b2e4a67b42966\n",
       "       [1]   +1   416eed5ffe8892e9771acca4f8bfd2c079291e301f9364ce8103ddd337cc5e6a\n",
       "       [2]   -1   0570c973d66716843c3d29166667da6ce4aa99c9439d8762582abb56d3df8c9d\n",
       "\n",
       "    offset      : 1\n",
       "\n",
       "    commitment  : 62778d4e041a000aa17e1ba26024d4a418c8a04ee15ad2ee6c462cf96d4c0fda\n",
       "\n",
       "    -------------------------------- END OF PROOF --------------------------------"
      ]
     },
     "execution_count": 365,
     "metadata": {},
     "output_type": "execute_result"
    }
   ],
   "source": [
    "proof"
   ]
  },
  {
   "cell_type": "markdown",
   "id": "7722020f-7fea-489e-bceb-40c98fe71b15",
   "metadata": {},
   "source": [
    "# Save current tree state"
   ]
  },
  {
   "cell_type": "code",
   "execution_count": 359,
   "id": "fbc33017-5a95-49c7-86e8-86f91f99d30e",
   "metadata": {},
   "outputs": [],
   "source": [
    "state = tree.get_root_hash()"
   ]
  },
  {
   "cell_type": "markdown",
   "id": "0b026ca7-6b9c-4479-9649-b24247670c69",
   "metadata": {},
   "source": [
    "# Append further leaves"
   ]
  },
  {
   "cell_type": "code",
   "execution_count": 363,
   "id": "c22c89be-2e91-475d-8acd-ebdb6a8e7181",
   "metadata": {},
   "outputs": [],
   "source": [
    "for data in [b'corge', b'grault', b'garlpy']:\n",
    "    tree.encrypt(data)"
   ]
  },
  {
   "cell_type": "markdown",
   "id": "40b7e23e-d698-4741-b5fa-aa4ec28b670f",
   "metadata": {},
   "source": [
    "# Prove and verify saved state"
   ]
  },
  {
   "cell_type": "code",
   "execution_count": 364,
   "id": "03715e70-9fae-4fe4-9d57-54fd6330fff7",
   "metadata": {},
   "outputs": [
    {
     "name": "stdout",
     "output_type": "stream",
     "text": [
      "\n",
      "    ----------------------------------- PROOF ------------------------------------\n",
      "\n",
      "    uuid        : 616e79a4-3f75-11ed-a675-0242ac110002\n",
      "\n",
      "    timestamp   : 1664400889 (Wed Sep 28 21:34:49 2022)\n",
      "    provider    : fcef7358-3f73-11ed-a675-0242ac110002\n",
      "\n",
      "    hash-type   : SHA256\n",
      "    encoding    : UTF-8\n",
      "    security    : ACTIVATED\n",
      "\n",
      "    \n",
      "       [0]   +1   7618cd8c59e5f61ce0316dcb4444254fd313446e83495597986b2e4a67b42966\n",
      "       [1]   +1   416eed5ffe8892e9771acca4f8bfd2c079291e301f9364ce8103ddd337cc5e6a\n",
      "       [2]   -1   0570c973d66716843c3d29166667da6ce4aa99c9439d8762582abb56d3df8c9d\n",
      "\n",
      "    offset      : 1\n",
      "\n",
      "    commitment  : 62778d4e041a000aa17e1ba26024d4a418c8a04ee15ad2ee6c462cf96d4c0fda\n",
      "\n",
      "    -------------------------------- END OF PROOF --------------------------------\n",
      "\n"
     ]
    },
    {
     "data": {
      "text/plain": [
       "True"
      ]
     },
     "execution_count": 364,
     "metadata": {},
     "output_type": "execute_result"
    }
   ],
   "source": [
    "proof = tree.generate_consistency_proof(challenge=state)\n",
    "print(proof)\n",
    "proof.verify()"
   ]
  },
  {
   "cell_type": "code",
   "execution_count": null,
   "id": "9c6df607-953a-4bf4-982f-875360b807f3",
   "metadata": {},
   "outputs": [],
   "source": []
  },
  {
   "cell_type": "code",
   "execution_count": null,
   "id": "1d70a184-3f80-49f8-a909-7f15b1365d47",
   "metadata": {},
   "outputs": [],
   "source": []
  }
 ],
 "metadata": {
  "kernelspec": {
   "display_name": "Python 3 (ipykernel)",
   "language": "python",
   "name": "python3"
  },
  "language_info": {
   "codemirror_mode": {
    "name": "ipython",
    "version": 3
   },
   "file_extension": ".py",
   "mimetype": "text/x-python",
   "name": "python",
   "nbconvert_exporter": "python",
   "pygments_lexer": "ipython3",
   "version": "3.10.6"
  }
 },
 "nbformat": 4,
 "nbformat_minor": 5
}
