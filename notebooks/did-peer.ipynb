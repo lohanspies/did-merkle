{
 "cells": [
  {
   "cell_type": "code",
   "execution_count": 1,
   "id": "16982b1e-a0c6-4240-b499-948bc93fc314",
   "metadata": {},
   "outputs": [],
   "source": [
    "from peerdid.dids import (\n",
    "    create_peer_did_numalgo_0,\n",
    "    create_peer_did_numalgo_2,\n",
    "    resolve_peer_did,\n",
    ")\n",
    "from peerdid.keys import Ed25519VerificationKey, X25519KeyAgreementKey\n",
    "\n",
    "encryption_keys = [\n",
    "    X25519KeyAgreementKey.from_base58(\n",
    "        \"DmgBSHMqaZiYqwNMEJJuxWzsGGC8jUYADrfSdBrC6L8s\"\n",
    "    )\n",
    "]\n",
    "signing_keys = [\n",
    "    Ed25519VerificationKey.from_base58(\n",
    "        \"ByHnpUCFb1vAfh9CFZ8ZkmUZguURW8nSw889hy6rD8L7\"\n",
    "    )\n",
    "]\n",
    "service = {\n",
    "    \"type\": \"DIDCommMessaging\",\n",
    "    \"serviceEndpoint\": \"https://example.com/endpoint1\",\n",
    "    \"routingKeys\": [\"did:example:somemediator#somekey1\"],\n",
    "    \"accept\": [\"didcomm/v2\", \"didcomm/aip2;env=rfc587\"],\n",
    "}\n",
    "\n",
    "peer_did_algo_0 = create_peer_did_numalgo_0(inception_key=signing_keys[0])\n",
    "peer_did_algo_2 = create_peer_did_numalgo_2(\n",
    "    encryption_keys=encryption_keys, signing_keys=signing_keys, service=service\n",
    ")\n",
    "\n",
    "did_doc_algo_0 = resolve_peer_did(peer_did_algo_0)\n",
    "did_doc_algo_2 = resolve_peer_did(peer_did_algo_2)\n",
    "\n",
    "did_doc_algo_0_json = did_doc_algo_0.to_json()\n",
    "did_doc_algo_2_json = did_doc_algo_2.to_json()"
   ]
  },
  {
   "cell_type": "code",
   "execution_count": null,
   "id": "be05ad51-74ab-4935-bfe6-e409f9908fe2",
   "metadata": {},
   "outputs": [],
   "source": []
  }
 ],
 "metadata": {
  "kernelspec": {
   "display_name": "Python 3 (ipykernel)",
   "language": "python",
   "name": "python3"
  },
  "language_info": {
   "codemirror_mode": {
    "name": "ipython",
    "version": 3
   },
   "file_extension": ".py",
   "mimetype": "text/x-python",
   "name": "python",
   "nbconvert_exporter": "python",
   "pygments_lexer": "ipython3",
   "version": "3.10.6"
  }
 },
 "nbformat": 4,
 "nbformat_minor": 5
}
