{
 "cells": [
  {
   "cell_type": "code",
   "execution_count": 1,
   "id": "1332f6ea-a59e-4293-b222-105bbd7b5556",
   "metadata": {},
   "outputs": [
    {
     "name": "stdout",
     "output_type": "stream",
     "text": [
      "\n",
      "    ----------------------------------- PROOF ------------------------------------\n",
      "\n",
      "    uuid        : 78b22484-3f35-11ed-bc09-0242ac110002\n",
      "\n",
      "    timestamp   : 1664373440 (Wed Sep 28 13:57:20 2022)\n",
      "    provider    : 78b2022e-3f35-11ed-bc09-0242ac110002\n",
      "\n",
      "    hash-type   : SHA256\n",
      "    encoding    : UTF-8\n",
      "    security    : ACTIVATED\n",
      "\n",
      "    \n",
      "       [0]   +1   2552e3cbf21513bf4b7a8134e4e4a2e1cd8857cc7fe8a51a455ec226e5cf1e6c\n",
      "       [1]   +1   2e219794e81e9bb22e230e7f40906eecb4cfcc289e1af253d88b23634266c5a2\n",
      "       [2]   +1   1c0c3f2623f61894bb6ab743c75efe35632b67985777b7017dedcddc3720aae9\n",
      "       [3]   -1   5b80e74a146a8a28cf4623b7a2463112f2b98633e4c11874e74117f55f8f291c\n",
      "\n",
      "    offset      : 1\n",
      "\n",
      "    commitment  : e45204e846a110051b8848afa80d195317c25554358c5d4e2e1363993dd8537b\n",
      "\n",
      "    -------------------------------- END OF PROOF --------------------------------\n",
      "\n"
     ]
    },
    {
     "data": {
      "text/plain": [
       "True"
      ]
     },
     "execution_count": 1,
     "metadata": {},
     "output_type": "execute_result"
    }
   ],
   "source": [
    "from pymerkle import MerkleTree\n",
    "\n",
    "tree = MerkleTree()\n",
    "\n",
    "# Populate tree with some records\n",
    "for data in [b'foo', b'bar', b'baz', b'qux', b'quux']:\n",
    "    tree.encrypt(data)\n",
    "\n",
    "# Prove and verify encryption of `bar`\n",
    "challenge = b'485904129bdda5d1b5fbc6bc4a82959ecfb9042db44dc08fe87e360b0a3f2501'\n",
    "proof = tree.generate_audit_proof(challenge)\n",
    "proof.verify()\n",
    "\n",
    "# Save current tree state\n",
    "state = tree.get_root_hash()\n",
    "\n",
    "# Append further leaves\n",
    "for data in [b'corge', b'grault', b'garlpy']:\n",
    "    tree.encrypt(data)\n",
    "\n",
    "# Prove and verify saved state\n",
    "proof = tree.generate_consistency_proof(challenge=state)\n",
    "print(proof)\n",
    "proof.verify()"
   ]
  },
  {
   "cell_type": "code",
   "execution_count": null,
   "id": "e25c9e69-321e-4d5e-b12a-20cac0cb85b8",
   "metadata": {},
   "outputs": [],
   "source": []
  }
 ],
 "metadata": {
  "kernelspec": {
   "display_name": "Python 3 (ipykernel)",
   "language": "python",
   "name": "python3"
  },
  "language_info": {
   "codemirror_mode": {
    "name": "ipython",
    "version": 3
   },
   "file_extension": ".py",
   "mimetype": "text/x-python",
   "name": "python",
   "nbconvert_exporter": "python",
   "pygments_lexer": "ipython3",
   "version": "3.10.6"
  }
 },
 "nbformat": 4,
 "nbformat_minor": 5
}
