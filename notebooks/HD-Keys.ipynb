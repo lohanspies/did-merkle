{
 "cells": [
  {
   "cell_type": "markdown",
   "id": "ebe5da9d-7bc5-47ba-8eb2-49e8031e39ed",
   "metadata": {},
   "source": [
    "# Simple Bitcoin mainnet HDWallet generator:"
   ]
  },
  {
   "cell_type": "code",
   "execution_count": 10,
   "id": "5b1be9ec-add1-40ee-9a3d-76245d9597b2",
   "metadata": {},
   "outputs": [
    {
     "name": "stdout",
     "output_type": "stream",
     "text": [
      "{\n",
      "    \"cryptocurrency\": \"Bitcoin\",\n",
      "    \"symbol\": \"BTC\",\n",
      "    \"network\": \"mainnet\",\n",
      "    \"strength\": 160,\n",
      "    \"entropy\": \"4168ece9a968a27a371ad314978c54770c874852\",\n",
      "    \"mnemonic\": \"door electric denial fan mechanic dial symbol foil behind round bench unlock silent picnic endorse\",\n",
      "    \"language\": \"english\",\n",
      "    \"passphrase\": null,\n",
      "    \"seed\": \"730a20884aca10abebd17106bb461cedd5aab5661d3bed36c2de17991d96991ddec10584ef1b7e2ace02aed707e7b8166bf4ac18c855e07cd054c32b8fea3642\",\n",
      "    \"root_xprivate_key\": \"xprv9s21ZrQH143K2bWVeqjxEZRBuZYZUy36QPZ2HJdjUZgXRaYkYBanRT3A6up5Ee5Yo1PAjHFEuS1H6J5GHvLsGWoNPcXhmkypAXjpPgG9aGh\",\n",
      "    \"root_xpublic_key\": \"xpub661MyMwAqRbcF5axksGxbhMvTbP3tRkwmcUd5h3M2uDWJNsu5iu2yFMdxDHC8YoyGE8PKsRYParMMEqDctHG7rPJ4pDUex5DhvhUCRWguBF\",\n",
      "    \"xprivate_key\": \"xprvA2iucP7ozjV32HgusNUkk4JYH7SWKaw614fQsxagPGtpDGYaNcRB9xXs5eg3htxvThfvGyoi9Ef5UFqDBaFfe19PSbAzD2hisa2m9EnuM9L\",\n",
      "    \"xpublic_key\": \"xpub6FiG1tehq73LEmmNyQ1m7CFGq9Gzj3ewNHb1gLzHwcRo64siv9jRhkrLvvYvbiovLWwAcCTQX5ofuXsbUsjDZUsFvYQPWZeY1E3hLwzqpto\",\n",
      "    \"uncompressed\": \"8321e35c970582bb8a6f094bc55ca0667e8098a5f657c74176f7a2ca8de6843639ccb8f14c8a6f6d9b748532f6fc9ee58b21f98f05640f455f9562a35ffd2562\",\n",
      "    \"compressed\": \"028321e35c970582bb8a6f094bc55ca0667e8098a5f657c74176f7a2ca8de68436\",\n",
      "    \"chain_code\": \"2bf8a33bf2b29029ef2a824a8d8c6f2f79564e111e027d172cdb626cdb8b320e\",\n",
      "    \"private_key\": \"139e8b5f5f506f4763ee2d3251214688a6514532f182b32d9e770ffec2a201ff\",\n",
      "    \"public_key\": \"028321e35c970582bb8a6f094bc55ca0667e8098a5f657c74176f7a2ca8de68436\",\n",
      "    \"wif\": \"Kwsr9pC5z3c882hy5B62n4W26gY5V5MELagnpEqf7W8rcetTEX7v\",\n",
      "    \"finger_print\": \"1c458d8c\",\n",
      "    \"semantic\": \"p2pkh\",\n",
      "    \"path\": \"m/44'/0'/0'/0/0\",\n",
      "    \"hash\": \"1c458d8c0be91721b313b971ee83fa004e053e05\",\n",
      "    \"addresses\": {\n",
      "        \"p2pkh\": \"13aVEzaYNcPGcSc1NyLaNr6Qak1M7bF6RM\",\n",
      "        \"p2sh\": \"34tFGtaf6YuyKHv9RNStApZmrJw8XaZPxC\",\n",
      "        \"p2wpkh\": \"bc1qr3zcmrqtaytjrvcnh9c7aql6qp8q20s9ru6cwp\",\n",
      "        \"p2wpkh_in_p2sh\": \"35mTrri7UKGN4fXpHgMZPDe4gkbpxtZyf8\",\n",
      "        \"p2wsh\": \"bc1qrr0skr40nx6mltlj2g00vvuzvz64ctjml9r0v74m5l7urg90pk5q5fkhmk\",\n",
      "        \"p2wsh_in_p2sh\": \"3CKPtHZTjh1YB8sYqaXxkUzB4oHYG5M35J\"\n",
      "    }\n",
      "}\n"
     ]
    }
   ],
   "source": [
    "from hdwallet import HDWallet\n",
    "from hdwallet.utils import generate_entropy\n",
    "from hdwallet.symbols import BTC as SYMBOL\n",
    "from typing import Optional\n",
    "\n",
    "import json\n",
    "\n",
    "# Choose strength 128, 160, 192, 224 or 256\n",
    "STRENGTH: int = 160  # Default is 128\n",
    "# Choose language english, french, italian, spanish, chinese_simplified, chinese_traditional, japanese or korean\n",
    "LANGUAGE: str = \"english\"  # Default is english\n",
    "# Generate new entropy hex string\n",
    "ENTROPY: str = generate_entropy(strength=STRENGTH)\n",
    "# Secret passphrase for mnemonic\n",
    "PASSPHRASE: Optional[str] = None  # \"meherett\"\n",
    "\n",
    "# Initialize Bitcoin mainnet HDWallet\n",
    "hdwallet: HDWallet = HDWallet(symbol=SYMBOL, use_default_path=False)\n",
    "# Get Bitcoin HDWallet from entropy\n",
    "hdwallet.from_entropy(\n",
    "    entropy=ENTROPY, language=LANGUAGE, passphrase=PASSPHRASE\n",
    ")\n",
    "\n",
    "# Derivation from path\n",
    "# hdwallet.from_path(\"m/44'/0'/0'/0/0\")\n",
    "# Or derivation from index\n",
    "hdwallet.from_index(44, hardened=True)\n",
    "hdwallet.from_index(0, hardened=True)\n",
    "hdwallet.from_index(0, hardened=True)\n",
    "hdwallet.from_index(0)\n",
    "hdwallet.from_index(0)\n",
    "\n",
    "# Print all Bitcoin HDWallet information's\n",
    "print(json.dumps(hdwallet.dumps(), indent=4, ensure_ascii=False))"
   ]
  },
  {
   "cell_type": "markdown",
   "id": "aa285d1e-770c-4ea0-849a-04e4d4010ce0",
   "metadata": {},
   "source": [
    "# Ethereum mainnet Ganache-CLI wallet look's like:"
   ]
  },
  {
   "cell_type": "code",
   "execution_count": 21,
   "id": "fec9fdb4-1253-4949-a1d8-3ffc48954217",
   "metadata": {},
   "outputs": [
    {
     "name": "stdout",
     "output_type": "stream",
     "text": [
      "Mnemonic: boy that luggage hub permit neither explain recipe vocal vocal shift bunker\n",
      "Base HD Path:  m/44'/60'/0'/0/{address_index} \n",
      "\n",
      "(0) m/44'/60'/0'/0/0 030aa81437ff58e2d6a8f90271bff34b0fa1c4af3cd41e02de4deea25a2ea2eaf7 0x43250c915607AD1792fDb8356513b01CD4C60BbD 0x6d61067d9ab6481aff53ad9cb9471a15f0295abc6bb5fc10d62b4ecbaa3b6ad6\n",
      "(1) m/44'/60'/0'/0/1 02c5ddf6b101e562512c7384a1194004b00c86203d1ed3b7ce4f277a7edbe6524b 0x4CB6dcB48a88DE010369f9AE5e17b54047Cbd904 0xb8f25a9bc2928f75db7282acf220b990cc8df3e9badc59fbe420cb4fb67c5244\n",
      "(2) m/44'/60'/0'/0/2 023f45aa1f18650896276d3e6903222a2020e4dfbe1660bbda51a356aa1d96870e 0xb3b63469A8e2a93DfFEEE6dE15EF0b018c9Da2A2 0x588e0ccfef117b505e54baeb0660b88285394ff2476409dd92fc8b7b60b419f3\n",
      "(3) m/44'/60'/0'/0/3 02e6e8da697a34c9d3fa70d2de046f8529e0321a1753f3e34c5fb6f4eb6493fd83 0xd6f910590F7c60A3e8cc0E00DBDc22a9e834BaEd 0x7141c497f60e493d75d7411a17efcfd953f9b0c6b982ec87c5980531897d3c49\n",
      "(4) m/44'/60'/0'/0/4 03d2629fa3e13e9899d85c17737c01153acd00ba0b61247b5e4afc5934ee07cd99 0xcf3Dc44691Fe823c4B41cE70627D50579a60cc96 0x2fe3900d83695f64ce520453712f428c69f99b7562235b2391e6c257088a03aa\n",
      "(5) m/44'/60'/0'/0/5 032135e590b0ce8e4f40eb343a975198c96d81313b0022d7814a91c96a6844f507 0x886B731Bf3A9357F720963a9b783aCd942b793C6 0x29f6383f7e51b2ee19fff7950bf0dc17bf717ea6217d0edf5579b9403b0bd0ab\n",
      "(6) m/44'/60'/0'/0/6 0221642f896c6e1274b42e0db13304e9b07b65384673d61f41efaeca803c5c3872 0xd0EE1B138269d14f88D150B107C6f20e1a4937d3 0x3e8441f00fcd335226bf6c8be378bdfe6256e8b1dffae07a95d0404430f780aa\n",
      "(7) m/44'/60'/0'/0/7 03e2268d65d1baf4b58c6f8b46cb83abcb7ddf35e851c1929d950900c7813b2bd2 0x68CF6fdCD3683eF80D91CC0F1E3b3EC367f15c83 0xd44284bc72e9719944daf895f7df04ef473f248617c4c3ce75dfcaf453ccc31c\n",
      "(8) m/44'/60'/0'/0/8 02a0ab692f67f5362a2ff37fed2cbeb4cf1bea80ee631cb98d20960c805538e188 0xE5553Ff06112AD6d2abD37454888Da30106e2132 0x08b717a25c481a03b7c3a77c1d1151270af1a93962266a4ad2e9b37a891423a3\n",
      "(9) m/44'/60'/0'/0/9 02af63f762e9da6eff46c656f5b121faaaa086653ae4b6eaf307a7db7a34b28178 0x3ac2CdE5E614149fc9373f5ECa7324017eB831e3 0xca1159c57b0fc81c2e677e131f89ab819246b5b336fb540b83ea615e449c82df\n",
      "(10) m/44'/60'/0'/0/10 034c52732850ca86aa44db14988bacf03200c4eaca6a9c2a2582fb8b961244920b 0x6365d95F7C95252d94035A7b51991b74F19e414e 0xb147c2b2eacea3282def51f249aa5f2603b4359e7f2e82185426ea8126d04d48\n",
      "(11) m/44'/60'/0'/0/11 02c7c4ee307896a118056ae030d25a8819cee3932ba5e2dcc2f15a6e2822647292 0xe6946e4859409a4243621163310d834b4897cA3b 0x6e619f5c1f110e6932bd7b7381e80b110dbb2cb12feb57e6bc95bfaf39f7b1b8\n",
      "(12) m/44'/60'/0'/0/12 03d46212475f89d7722d37fc75768f4de05aef8f9c77b6e5d9133593c2ea247288 0x7258bA92833b4a63b8f4cDcC8F370D1F955b0f1a 0xd75b8a4d111740060663e2e69c302dc5fb2ded2ba855b70b4e79eaa34179f4a0\n",
      "(13) m/44'/60'/0'/0/13 02cffcff595765b77d8d09367408e3fc6c87390533ccfb74f90a04414a258d4a72 0x3E19409A6588e0d4649ab6CA15a8054C3452ff08 0xab8cd30e386db337316482950b19033238f354d0064f74adc6a2d025cd98d9a2\n",
      "(14) m/44'/60'/0'/0/14 02c66046efad31db710cf98bda99e2dc5062ff0ce5292cc8f54a992a91a119d953 0x35d57c7cE1C033a9be813a53cb7Cccc23c502f1a 0x4f23f436ac1bc47be8d297bcffa5ff49ccbe7b728fee04869c970cb0b9e7942e\n",
      "(15) m/44'/60'/0'/0/15 026f195e4acf7677680cf18c1c073835ec0f8ec54ffa67889c2d98c1a36aa7bd83 0xd2E91A82075d4331983A70B6EA71C2fE087b955B 0xb5ae5630dbf962f6bcac55e2a10e0569e90d39e6325eaf04d96bfdf07c86eab4\n",
      "(16) m/44'/60'/0'/0/16 0221a37a8163f6c6fb24c4db5092a33dc976c3d2e2403eb5a0cf70c8293bfe0bb9 0x54Db81E4077518880DB1d31a87aaeEBF161b5497 0x49157bb89fecb67438806793be514c3b9eb005339fcb3cbab7a8e4ecc02f4fea\n",
      "(17) m/44'/60'/0'/0/17 0257c43a51675f67e6e550b5525d4cff1400ac0e026afd834192380561de57c7dc 0xADae864de703A9D7c5733CbC5b2217C13917aE04 0xf656c04a38d11428c7ae440c0cad66423d5a65cf31157e64c4a40dbb003d3f70\n",
      "(18) m/44'/60'/0'/0/18 031cacce229c83ae86dbed23aa5d4df4b0e24e5e8830a190b3fb9c8995d3b87c23 0x32621222c12E20C327F3ecD810A9e66Bd81F0C3c 0xcc782a422b864324be9cc11ec2d51ab6910c722bfd60c227b406a5363a95dfef\n",
      "(19) m/44'/60'/0'/0/19 02d6866f65f3e2b3ea3d0efdd2ee4a6cc09d933a3bf4697df677e55aa212403724 0x55Ce59Ee1dC46718b61f16b3E791DeA6c4772748 0x35d094a7fe3d95a052f049f775603f3243e728028863a7fd01e927a1748fbfde\n"
     ]
    }
   ],
   "source": [
    "from hdwallet import BIP44HDWallet\n",
    "from hdwallet.cryptocurrencies import EthereumMainnet\n",
    "from hdwallet.derivations import BIP44Derivation\n",
    "from hdwallet.utils import generate_mnemonic\n",
    "from typing import Optional\n",
    "\n",
    "# Generate english mnemonic words\n",
    "MNEMONIC: str = generate_mnemonic(language=\"english\", strength=128)\n",
    "# Secret passphrase/password for mnemonic\n",
    "PASSPHRASE: Optional[str] = None  # \"meherett\"\n",
    "\n",
    "# Initialize Ethereum mainnet BIP44HDWallet\n",
    "bip44_hdwallet: BIP44HDWallet = BIP44HDWallet(cryptocurrency=EthereumMainnet)\n",
    "# Get Ethereum BIP44HDWallet from mnemonic\n",
    "bip44_hdwallet.from_mnemonic(\n",
    "    mnemonic=MNEMONIC, language=\"english\", passphrase=PASSPHRASE\n",
    ")\n",
    "# Clean default BIP44 derivation indexes/paths\n",
    "bip44_hdwallet.clean_derivation()\n",
    "\n",
    "print(\"Mnemonic:\", bip44_hdwallet.mnemonic())\n",
    "print(\"Base HD Path:  m/44'/60'/0'/0/{address_index}\", \"\\n\")\n",
    "\n",
    "# Get Ethereum BIP44HDWallet information's from address index\n",
    "for address_index in range(20):\n",
    "    # Derivation from Ethereum BIP44 derivation path\n",
    "    bip44_derivation: BIP44Derivation = BIP44Derivation(\n",
    "        cryptocurrency=EthereumMainnet, account=0, change=False, address=address_index\n",
    "    )\n",
    "    # Drive Ethereum BIP44HDWallet\n",
    "    bip44_hdwallet.from_path(path=bip44_derivation)\n",
    "    # Print address_index, path, address and private_key\n",
    "    print(f\"({address_index}) {bip44_hdwallet.path()} {bip44_hdwallet.public_key()} {bip44_hdwallet.address()} 0x{bip44_hdwallet.private_key()}\")\n",
    "    # Clean derivation indexes/paths\n",
    "    bip44_hdwallet.clean_derivation()"
   ]
  },
  {
   "cell_type": "code",
   "execution_count": null,
   "id": "6111f217-326c-4a5e-b713-12f0cdb947b7",
   "metadata": {},
   "outputs": [],
   "source": []
  },
  {
   "cell_type": "code",
   "execution_count": null,
   "id": "08701bea-fe55-41b5-97f6-be34d1aa1a7f",
   "metadata": {},
   "outputs": [],
   "source": []
  }
 ],
 "metadata": {
  "kernelspec": {
   "display_name": "Python 3 (ipykernel)",
   "language": "python",
   "name": "python3"
  },
  "language_info": {
   "codemirror_mode": {
    "name": "ipython",
    "version": 3
   },
   "file_extension": ".py",
   "mimetype": "text/x-python",
   "name": "python",
   "nbconvert_exporter": "python",
   "pygments_lexer": "ipython3",
   "version": "3.10.6"
  }
 },
 "nbformat": 4,
 "nbformat_minor": 5
}
