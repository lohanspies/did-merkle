{
 "cells": [
  {
   "cell_type": "markdown",
   "id": "691e6382-641b-4f2a-a70a-cb65519c99b5",
   "metadata": {},
   "source": [
    "# DID:merkle"
   ]
  },
  {
   "cell_type": "code",
   "execution_count": 70,
   "id": "2690c218-5399-4db8-b524-cab1fa036425",
   "metadata": {},
   "outputs": [],
   "source": [
    "from pymerkle import MerkleTree\n",
    "from multibase import encode, decode\n",
    "\n",
    "from hdwallet import BIP44HDWallet\n",
    "from hdwallet.cryptocurrencies import EthereumMainnet\n",
    "from hdwallet.derivations import BIP44Derivation\n",
    "from hdwallet.utils import generate_mnemonic\n",
    "from typing import Optional\n",
    "\n",
    "import hashlib\n",
    "from multihash import multihash\n",
    "import base58\n",
    "\n",
    "import json"
   ]
  },
  {
   "cell_type": "markdown",
   "id": "342621b6-7198-4db9-9f21-9ce5af48648c",
   "metadata": {},
   "source": [
    "## Generate Holder Wallets"
   ]
  },
  {
   "cell_type": "markdown",
   "id": "070b58da-bcb7-4f27-972c-32401e203e7e",
   "metadata": {},
   "source": [
    "### Juliet"
   ]
  },
  {
   "cell_type": "code",
   "execution_count": 71,
   "id": "1bc4d56c-6e29-4214-ae59-ff9254728732",
   "metadata": {},
   "outputs": [
    {
     "name": "stdout",
     "output_type": "stream",
     "text": [
      "Juliet\n",
      "Mnemonic: hungry liberty strategy moon pig arena sheriff chef local cattle shaft gun\n",
      "Base HD Path:  m/44'/60'/0'/0/{address_index} \n",
      "\n"
     ]
    }
   ],
   "source": [
    "# Generate english mnemonic words\n",
    "MNEMONIC: str = generate_mnemonic(language=\"english\", strength=128)\n",
    "# Secret passphrase/password for mnemonic\n",
    "PASSPHRASE: Optional[str] = None  # \"meherett\"\n",
    "\n",
    "# Initialize Ethereum mainnet BIP44HDWallet\n",
    "bip44_hdwallet_juliet: BIP44HDWallet = BIP44HDWallet(cryptocurrency=EthereumMainnet)\n",
    "# Get Ethereum BIP44HDWallet from mnemonic\n",
    "bip44_hdwallet_juliet.from_mnemonic(\n",
    "    mnemonic=MNEMONIC, language=\"english\", passphrase=PASSPHRASE\n",
    ")\n",
    "# Clean default BIP44 derivation indexes/paths\n",
    "bip44_hdwallet_juliet.clean_derivation()\n",
    "\n",
    "print(\"Juliet\")\n",
    "print(\"Mnemonic:\", bip44_hdwallet_juliet.mnemonic())\n",
    "print(\"Base HD Path:  m/44'/60'/0'/0/{address_index}\", \"\\n\")"
   ]
  },
  {
   "cell_type": "markdown",
   "id": "15041496-b2f9-453c-b3b5-9373f3a43810",
   "metadata": {
    "tags": []
   },
   "source": [
    "### Federico"
   ]
  },
  {
   "cell_type": "code",
   "execution_count": 72,
   "id": "5bdc8396-9913-452f-bbcf-1576e3d04ee0",
   "metadata": {
    "tags": []
   },
   "outputs": [
    {
     "name": "stdout",
     "output_type": "stream",
     "text": [
      "Norma\n",
      "Mnemonic: arena term garlic figure unhappy lobster split figure balance host fit note\n",
      "Base HD Path:  m/44'/60'/0'/0/{address_index} \n",
      "\n"
     ]
    }
   ],
   "source": [
    "# Generate english mnemonic words\n",
    "MNEMONIC: str = generate_mnemonic(language=\"english\", strength=128)\n",
    "# Secret passphrase/password for mnemonic\n",
    "PASSPHRASE: Optional[str] = None  # \"meherett\"\n",
    "\n",
    "# Initialize Ethereum mainnet BIP44HDWallet\n",
    "bip44_hdwallet_federico: BIP44HDWallet = BIP44HDWallet(cryptocurrency=EthereumMainnet)\n",
    "# Get Ethereum BIP44HDWallet from mnemonic\n",
    "bip44_hdwallet_federico.from_mnemonic(\n",
    "    mnemonic=MNEMONIC, language=\"english\", passphrase=PASSPHRASE\n",
    ")\n",
    "# Clean default BIP44 derivation indexes/paths\n",
    "bip44_hdwallet_federico.clean_derivation()\n",
    "\n",
    "print(\"Norma\")\n",
    "print(\"Mnemonic:\", bip44_hdwallet_federico.mnemonic())\n",
    "print(\"Base HD Path:  m/44'/60'/0'/0/{address_index}\", \"\\n\")"
   ]
  },
  {
   "cell_type": "markdown",
   "id": "e720fb14-e432-4a04-9b31-1343cb8d1b3d",
   "metadata": {},
   "source": [
    "### Mario"
   ]
  },
  {
   "cell_type": "code",
   "execution_count": 73,
   "id": "810cada6-22bc-47fa-a414-f582adcd117c",
   "metadata": {},
   "outputs": [
    {
     "name": "stdout",
     "output_type": "stream",
     "text": [
      "Norma\n",
      "Mnemonic: crisp diamond lottery absent cheap sand size skill share enforce chaos stomach\n",
      "Base HD Path:  m/44'/60'/0'/0/{address_index} \n",
      "\n"
     ]
    }
   ],
   "source": [
    "# Generate english mnemonic words\n",
    "MNEMONIC: str = generate_mnemonic(language=\"english\", strength=128)\n",
    "# Secret passphrase/password for mnemonic\n",
    "PASSPHRASE: Optional[str] = None  # \"meherett\"\n",
    "\n",
    "# Initialize Ethereum mainnet BIP44HDWallet\n",
    "bip44_hdwallet_mario: BIP44HDWallet = BIP44HDWallet(cryptocurrency=EthereumMainnet)\n",
    "# Get Ethereum BIP44HDWallet from mnemonic\n",
    "bip44_hdwallet_mario.from_mnemonic(\n",
    "    mnemonic=MNEMONIC, language=\"english\", passphrase=PASSPHRASE\n",
    ")\n",
    "# Clean default BIP44 derivation indexes/paths\n",
    "bip44_hdwallet_mario.clean_derivation()\n",
    "\n",
    "print(\"Norma\")\n",
    "print(\"Mnemonic:\", bip44_hdwallet_mario.mnemonic())\n",
    "print(\"Base HD Path:  m/44'/60'/0'/0/{address_index}\", \"\\n\")"
   ]
  },
  {
   "cell_type": "markdown",
   "id": "1fea8f1e-df73-4d62-813c-18f40c313cd2",
   "metadata": {},
   "source": [
    "### Generate public keys for Juliet, Federico and Mario"
   ]
  },
  {
   "cell_type": "code",
   "execution_count": 74,
   "id": "0ab56435-414f-4160-9777-83684c7c0e90",
   "metadata": {},
   "outputs": [],
   "source": [
    "# Get Ethereum BIP44HDWallet information's from address index\n",
    "\n",
    "juliet_pubkeys = {\"hd-path\":[],\"pubkey\":[]}\n",
    "federico_pubkeys = {\"hd-path\":[],\"pubkey\":[]}\n",
    "mario_pubkeys = {\"hd-path\":[],\"pubkey\":[]}\n",
    "\n",
    "for address_index in range(20):\n",
    "    # Derivation from Ethereum BIP44 derivation path\n",
    "    bip44_derivation: BIP44Derivation = BIP44Derivation(\n",
    "        cryptocurrency=EthereumMainnet, account=0, change=False, address=address_index\n",
    "    )\n",
    "    # Drive Ethereum BIP44HDWallet\n",
    "    bip44_hdwallet_juliet.from_path(path=bip44_derivation)\n",
    "    bip44_hdwallet_federico.from_path(path=bip44_derivation)\n",
    "    bip44_hdwallet_mario.from_path(path=bip44_derivation)\n",
    "    \n",
    "    # Add hd-key-index and public key to arrays\n",
    "    juliet_pubkeys[\"pubkey\"].append(bip44_hdwallet_juliet.public_key())\n",
    "    federico_pubkeys[\"pubkey\"].append(bip44_hdwallet_federico.public_key())\n",
    "    mario_pubkeys[\"pubkey\"].append(bip44_hdwallet_mario.public_key())\n",
    "    \n",
    "    # Clean derivation indexes/paths\n",
    "    bip44_hdwallet_juliet.clean_derivation()\n",
    "    bip44_hdwallet_federico.clean_derivation()\n",
    "    bip44_hdwallet_mario.clean_derivation()"
   ]
  },
  {
   "cell_type": "code",
   "execution_count": 75,
   "id": "341df44f-ce84-4412-97e8-93a5015a4306",
   "metadata": {
    "tags": []
   },
   "outputs": [
    {
     "data": {
      "text/plain": [
       "['03d83c8bebd78a43720635dcdd023b7001e6203e0a81c4e38772093bd4fddf361f',\n",
       " '0239ed70f47459a98917bc28059452589b64005fd19e9d5fe5e1e83a221f72bea1',\n",
       " '027e2859cda8aa146f198c054f1357d4116f619c5e1044a9722391c19463dd5ec9',\n",
       " '0244a6d5ed9924b42cd9b541697c073b8f184506ab97d674e56bdbfb12b29d7b0c',\n",
       " '0372ded6c3445125661497c597d2939785d9dfb4ff5688ac5b51972b6d4aba3e38',\n",
       " '03a10e8adef37eeb8a69716212ce6ee4beb257751abcca848d27d20dd79abddbb7',\n",
       " '02c191cbd23ac61a8819f6270199292f36daf9478fbf47eb81bd95b5ac5e724d74',\n",
       " '0367c058a00ee997cc2810f78d8602dc7ec41a1223d5610bd1287501e87556b5ed',\n",
       " '02a48308ca929ff19b859956d0d3b694697685637e7d35a5a2998e49ef6f6e58cf',\n",
       " '02fcce10a317a85d1e677c35a16fa5b7e07cd374ed20e11eef857df5a1aa0532c3',\n",
       " '024273aa67c47df634bc6a0265d55282ac6a2721cc251ced13e0be788a7aa0e818',\n",
       " '03dc35be05d30b8907cf75bccb8220efc3ca4e07c22afa590d5395c44965ba1cf7',\n",
       " '0214212b088e6a5b3a0e19396a87e1d99953f3aacf70d8e6c0f36cf143e39d0957',\n",
       " '0351950db7755e1effc7a95e745014c0480393e33fb1783cd8832bcf2892feb38b',\n",
       " '0313d8cdb0035a646f62103b18b26c41d957286e19e5b5540a79fdb4477a018a58',\n",
       " '02cad8f58cc2b722ab478e573d9e013b92628252f237b9ebd3bda9f5c944e1ec88',\n",
       " '023de503efca36c1cea1a85391d365c7fcc1ce633296d7e09311bfb032d707d29e',\n",
       " '0330c970305c3bb18d73726923bda841d4fd92dc099dc798560f7c0185350c9d40',\n",
       " '03abeaf28e45ca0a3d8544d7f72bb1e36944de095a8e8e7f613427ef914f72aaff',\n",
       " '03d26e0876228532e8c65af89ca901ab06b8e093c3329eb13b7c18e62c6a76dd5e']"
      ]
     },
     "execution_count": 75,
     "metadata": {},
     "output_type": "execute_result"
    }
   ],
   "source": [
    "juliet_pubkeys['pubkey']"
   ]
  },
  {
   "cell_type": "code",
   "execution_count": 76,
   "id": "f98636bc-c96f-454c-bc28-c3419cab5f01",
   "metadata": {
    "tags": []
   },
   "outputs": [
    {
     "data": {
      "text/plain": [
       "['0341507db88903ee88bf42394ac251f0938fe8a1d8340ca0b6a5efba2ad40444c6',\n",
       " '0298e870aa347c5d0ee35ad434b3aed21e5b9ac7c2ede52144baeaafa68bf858bd',\n",
       " '02db58a5dff7af7abaaada7f6c02711c0714290b9f0ec0c7fb66010edc8dbe13e9',\n",
       " '020f1db58eb342a43ee7ec40f29f9f050bb27d3e90fe908df226c387bc4fe1712b',\n",
       " '03ef6bc168533c80880b2f8f2ed656e0ddb43ea1e7aed9695f99b566189263ff12',\n",
       " '035b8a85fd5c4ebdfd150229a662264658abe17023769449bef0ca5d06ca1c4894',\n",
       " '03e523380bd4894569be045f9427ae0d7280148d34b7b2618806c0b73d2e699c68',\n",
       " '03bc4107d08cac8545b95c3c48486b7599b1165adccd86e6a7e3510aa15c65713d',\n",
       " '033e21b34f9d18682aab44c6a273c95d97a5fc1669296d5527a1b036dfea891d65',\n",
       " '022224b6b4e08a27ee3e9be121fe700229fd57f5d0aa86be174acc3f57d1c90025',\n",
       " '02b1dd2baa5c706c02960527bfdf49f3809ae295a17d95e0b096ad9f7945b0a9b5',\n",
       " '0262e9e3cf34d9861d9132c80cde3e846b9ac58b17d67bb7a2e706ef12a56b5b90',\n",
       " '0349dfbcdcb2b7c02e48db85891462ef6b9bd13d90d6287b79872cc1503d3e2bb0',\n",
       " '026b7257b60817af6b1705e6c02d881a1df02c5610512f68bce05b8afb866848a8',\n",
       " '02c8f0e87ea379e440005146845475101dcb0621be732a3d7f53a8330799b6d4d8',\n",
       " '032b941e8c3372e3be94e8ad24c3df33db02d868c26ba11fbcd6cc8d07a505d544',\n",
       " '03394fdc191f22839ff27d7fd3f17bc9152b03b1f17f67374ed5b350b890e21777',\n",
       " '030f3b19b3fd1fa850fd46fadd619d275214c84de691d247e3e0554fa7d748558a',\n",
       " '03e3c7dadc6ee5a6e25d3b5da4a44235db82e178a7c01f1a06fe61ca16e87fd5bf',\n",
       " '020907305405ec6978f716f143635499599be025e4d0dcdf63fe8d65819548c8c4']"
      ]
     },
     "execution_count": 76,
     "metadata": {},
     "output_type": "execute_result"
    }
   ],
   "source": [
    "federico_pubkeys['pubkey']"
   ]
  },
  {
   "cell_type": "code",
   "execution_count": 77,
   "id": "361260e6-40dd-4b79-a0d6-0072d562fa3f",
   "metadata": {},
   "outputs": [
    {
     "data": {
      "text/plain": [
       "['02eca3b250cdde29fd2160f8da77169a28f62f64c097307984ee348fc461dd12d2',\n",
       " '024c684477a98a6adc8c94c0431cb5c7cc5883843d80d944fcc8b5920af20f7303',\n",
       " '02db382620064cb2e4f7727baaf56fd01884355ebaba9be22c352efc3183aa1c41',\n",
       " '036092ed9e89bae96672a4a94a1d5be11d9332c17a8d4feaef9a8f4f3ed1fcd94c',\n",
       " '025223252db9a6a8a1e7243e42c3d0db61bcd8b55f8d2faf995e9b649b1e56ebb8',\n",
       " '02ba8fe013ec556d60a075647761df7eaf4439310cf8a0c51a12a1786060ce55b3',\n",
       " '037af6944f2be215f3eccb84d8483bc74dd77c8cbe93ca3b9aa80f5d4afded02ed',\n",
       " '03d0762824976e68fba2eb71a3bfdd2c65ebb8b97bb5f2ba5faa03e01da8a1d2bc',\n",
       " '033d32f2c068669f5add32331e621a18994944f0b8e6a0bb24b09a0c2e8f3c791d',\n",
       " '03f5df4c81147d9b0a310dab3f1d9e6a5696b08d516a434be2754498c4cb8f415c',\n",
       " '03e42ccee21d110bd7663d85682ef5559be84b52e3c132fa227e9a1c08cbed947e',\n",
       " '035399ca2f30901e21cc31a5d263c54e5adb44fa611da82687e93c59ae0e559d42',\n",
       " '022d4d98518d43de1aa7f4441831658f5d24bfac11718c949fd3c8c9a1fabab54b',\n",
       " '035cbe35195afaf51cb18867781f49cd62017055fad677f11bbdf59bf4744ed0f4',\n",
       " '0249040c05469324f6eaccdd0b469688f2587f775ec2a8d71814c3b3b428a518a6',\n",
       " '0384fc020739bf7d242063c4f38aecdf9c4e553eb4703c5f0624fcf254c916c3bb',\n",
       " '03836948b18cd6471038eb96b5086fc1dfa35a317821157c52fbe6d56bd9ffc4f8',\n",
       " '022f3027b9e10a9606b8eb1ad8cc840f1b328c8acfe4b37f670d43a7a30ebafe0b',\n",
       " '0368812f6646ec047e5871a2cd4bdb6fc940cbc4d7c38252b069f31a4d8ed82dde',\n",
       " '030ed8ed05f20c58197427c330844381dde02580af1ec800ed327811bb487a1a9f']"
      ]
     },
     "execution_count": 77,
     "metadata": {},
     "output_type": "execute_result"
    }
   ],
   "source": [
    "mario_pubkeys['pubkey']"
   ]
  },
  {
   "cell_type": "markdown",
   "id": "9e65f59b-af0c-4c10-abed-6ea2df256610",
   "metadata": {},
   "source": [
    "## Generate Array of pubkeys"
   ]
  },
  {
   "cell_type": "code",
   "execution_count": 78,
   "id": "785becd8-d2fe-4dba-9c9d-ae901807ffef",
   "metadata": {},
   "outputs": [],
   "source": [
    "group_pubkeys = juliet_pubkeys['pubkey'] + mario_pubkeys['pubkey'] + federico_pubkeys['pubkey']"
   ]
  },
  {
   "cell_type": "code",
   "execution_count": 79,
   "id": "0bd6e1ed-e253-43a5-acce-a088afced846",
   "metadata": {},
   "outputs": [
    {
     "data": {
      "text/plain": [
       "['03d83c8bebd78a43720635dcdd023b7001e6203e0a81c4e38772093bd4fddf361f',\n",
       " '0239ed70f47459a98917bc28059452589b64005fd19e9d5fe5e1e83a221f72bea1',\n",
       " '027e2859cda8aa146f198c054f1357d4116f619c5e1044a9722391c19463dd5ec9',\n",
       " '0244a6d5ed9924b42cd9b541697c073b8f184506ab97d674e56bdbfb12b29d7b0c',\n",
       " '0372ded6c3445125661497c597d2939785d9dfb4ff5688ac5b51972b6d4aba3e38',\n",
       " '03a10e8adef37eeb8a69716212ce6ee4beb257751abcca848d27d20dd79abddbb7',\n",
       " '02c191cbd23ac61a8819f6270199292f36daf9478fbf47eb81bd95b5ac5e724d74',\n",
       " '0367c058a00ee997cc2810f78d8602dc7ec41a1223d5610bd1287501e87556b5ed',\n",
       " '02a48308ca929ff19b859956d0d3b694697685637e7d35a5a2998e49ef6f6e58cf',\n",
       " '02fcce10a317a85d1e677c35a16fa5b7e07cd374ed20e11eef857df5a1aa0532c3',\n",
       " '024273aa67c47df634bc6a0265d55282ac6a2721cc251ced13e0be788a7aa0e818',\n",
       " '03dc35be05d30b8907cf75bccb8220efc3ca4e07c22afa590d5395c44965ba1cf7',\n",
       " '0214212b088e6a5b3a0e19396a87e1d99953f3aacf70d8e6c0f36cf143e39d0957',\n",
       " '0351950db7755e1effc7a95e745014c0480393e33fb1783cd8832bcf2892feb38b',\n",
       " '0313d8cdb0035a646f62103b18b26c41d957286e19e5b5540a79fdb4477a018a58',\n",
       " '02cad8f58cc2b722ab478e573d9e013b92628252f237b9ebd3bda9f5c944e1ec88',\n",
       " '023de503efca36c1cea1a85391d365c7fcc1ce633296d7e09311bfb032d707d29e',\n",
       " '0330c970305c3bb18d73726923bda841d4fd92dc099dc798560f7c0185350c9d40',\n",
       " '03abeaf28e45ca0a3d8544d7f72bb1e36944de095a8e8e7f613427ef914f72aaff',\n",
       " '03d26e0876228532e8c65af89ca901ab06b8e093c3329eb13b7c18e62c6a76dd5e',\n",
       " '02eca3b250cdde29fd2160f8da77169a28f62f64c097307984ee348fc461dd12d2',\n",
       " '024c684477a98a6adc8c94c0431cb5c7cc5883843d80d944fcc8b5920af20f7303',\n",
       " '02db382620064cb2e4f7727baaf56fd01884355ebaba9be22c352efc3183aa1c41',\n",
       " '036092ed9e89bae96672a4a94a1d5be11d9332c17a8d4feaef9a8f4f3ed1fcd94c',\n",
       " '025223252db9a6a8a1e7243e42c3d0db61bcd8b55f8d2faf995e9b649b1e56ebb8',\n",
       " '02ba8fe013ec556d60a075647761df7eaf4439310cf8a0c51a12a1786060ce55b3',\n",
       " '037af6944f2be215f3eccb84d8483bc74dd77c8cbe93ca3b9aa80f5d4afded02ed',\n",
       " '03d0762824976e68fba2eb71a3bfdd2c65ebb8b97bb5f2ba5faa03e01da8a1d2bc',\n",
       " '033d32f2c068669f5add32331e621a18994944f0b8e6a0bb24b09a0c2e8f3c791d',\n",
       " '03f5df4c81147d9b0a310dab3f1d9e6a5696b08d516a434be2754498c4cb8f415c',\n",
       " '03e42ccee21d110bd7663d85682ef5559be84b52e3c132fa227e9a1c08cbed947e',\n",
       " '035399ca2f30901e21cc31a5d263c54e5adb44fa611da82687e93c59ae0e559d42',\n",
       " '022d4d98518d43de1aa7f4441831658f5d24bfac11718c949fd3c8c9a1fabab54b',\n",
       " '035cbe35195afaf51cb18867781f49cd62017055fad677f11bbdf59bf4744ed0f4',\n",
       " '0249040c05469324f6eaccdd0b469688f2587f775ec2a8d71814c3b3b428a518a6',\n",
       " '0384fc020739bf7d242063c4f38aecdf9c4e553eb4703c5f0624fcf254c916c3bb',\n",
       " '03836948b18cd6471038eb96b5086fc1dfa35a317821157c52fbe6d56bd9ffc4f8',\n",
       " '022f3027b9e10a9606b8eb1ad8cc840f1b328c8acfe4b37f670d43a7a30ebafe0b',\n",
       " '0368812f6646ec047e5871a2cd4bdb6fc940cbc4d7c38252b069f31a4d8ed82dde',\n",
       " '030ed8ed05f20c58197427c330844381dde02580af1ec800ed327811bb487a1a9f',\n",
       " '0341507db88903ee88bf42394ac251f0938fe8a1d8340ca0b6a5efba2ad40444c6',\n",
       " '0298e870aa347c5d0ee35ad434b3aed21e5b9ac7c2ede52144baeaafa68bf858bd',\n",
       " '02db58a5dff7af7abaaada7f6c02711c0714290b9f0ec0c7fb66010edc8dbe13e9',\n",
       " '020f1db58eb342a43ee7ec40f29f9f050bb27d3e90fe908df226c387bc4fe1712b',\n",
       " '03ef6bc168533c80880b2f8f2ed656e0ddb43ea1e7aed9695f99b566189263ff12',\n",
       " '035b8a85fd5c4ebdfd150229a662264658abe17023769449bef0ca5d06ca1c4894',\n",
       " '03e523380bd4894569be045f9427ae0d7280148d34b7b2618806c0b73d2e699c68',\n",
       " '03bc4107d08cac8545b95c3c48486b7599b1165adccd86e6a7e3510aa15c65713d',\n",
       " '033e21b34f9d18682aab44c6a273c95d97a5fc1669296d5527a1b036dfea891d65',\n",
       " '022224b6b4e08a27ee3e9be121fe700229fd57f5d0aa86be174acc3f57d1c90025',\n",
       " '02b1dd2baa5c706c02960527bfdf49f3809ae295a17d95e0b096ad9f7945b0a9b5',\n",
       " '0262e9e3cf34d9861d9132c80cde3e846b9ac58b17d67bb7a2e706ef12a56b5b90',\n",
       " '0349dfbcdcb2b7c02e48db85891462ef6b9bd13d90d6287b79872cc1503d3e2bb0',\n",
       " '026b7257b60817af6b1705e6c02d881a1df02c5610512f68bce05b8afb866848a8',\n",
       " '02c8f0e87ea379e440005146845475101dcb0621be732a3d7f53a8330799b6d4d8',\n",
       " '032b941e8c3372e3be94e8ad24c3df33db02d868c26ba11fbcd6cc8d07a505d544',\n",
       " '03394fdc191f22839ff27d7fd3f17bc9152b03b1f17f67374ed5b350b890e21777',\n",
       " '030f3b19b3fd1fa850fd46fadd619d275214c84de691d247e3e0554fa7d748558a',\n",
       " '03e3c7dadc6ee5a6e25d3b5da4a44235db82e178a7c01f1a06fe61ca16e87fd5bf',\n",
       " '020907305405ec6978f716f143635499599be025e4d0dcdf63fe8d65819548c8c4']"
      ]
     },
     "execution_count": 79,
     "metadata": {},
     "output_type": "execute_result"
    }
   ],
   "source": [
    "group_pubkeys"
   ]
  },
  {
   "cell_type": "markdown",
   "id": "7646edf7-d8b8-47e6-98a3-359c57fb077c",
   "metadata": {},
   "source": [
    "## Merkle-tree"
   ]
  },
  {
   "cell_type": "markdown",
   "id": "b913a59d-1c92-4d1f-bbea-014ffa73ba33",
   "metadata": {},
   "source": [
    "### Generate merkle-tree"
   ]
  },
  {
   "cell_type": "code",
   "execution_count": 80,
   "id": "dc166d78-5227-43c9-9eca-07653a23635c",
   "metadata": {},
   "outputs": [],
   "source": [
    "tree = MerkleTree()\n",
    "\n",
    "# Populate tree with some records\n",
    "for data in group_pubkeys:\n",
    "    tree.encrypt(data)"
   ]
  },
  {
   "cell_type": "code",
   "execution_count": 81,
   "id": "db34d520-a66f-4db3-a0d9-f2e2ddee69e3",
   "metadata": {},
   "outputs": [
    {
     "data": {
      "text/plain": [
       "{'hash_type': 'sha256',\n",
       " 'encoding': 'utf_8',\n",
       " 'security': True,\n",
       " 'hashes': ['9b00f3dd4a4009b833bf57e13c2df608ee288e6156edd8ffc0c75be3c50add9b',\n",
       "  'd687344890c0655581b86378f1a609e3e99031597cfbefa9434563136ea2481b',\n",
       "  'd339d7be966f11614fd130ca6493f5189bff2d60d38efb64a0fb0ea4babf737e',\n",
       "  '4fa54c0225eb4e467b8b703ccb7a06dcd43745af817fb8a3f0a5def774d447da',\n",
       "  '841d297cc2d531ab6f3ce94b65e79a3e774f69c7e8cfe678ac417d8404acfc6d',\n",
       "  '730d7c27af0f92bf4b2116f4527e823ab5e6c923833087a558b3ce82a5f34d5e',\n",
       "  '81db6887953389f47d00458615204dd5e7f7091c48a2a6d02f800d81dfc5fe36',\n",
       "  'b60e991988823da94ed451c7fe32523ba80cb8adc6be7a0a71a3f04a922e0b2c',\n",
       "  '542186cd9900b415ec96a6237afad434d115c9c8192851000803e8ee9ecb231a',\n",
       "  'ce3ffa0400e0b85ecd442013619cca896311cb8e60927010b51152ede47b5462',\n",
       "  'e7c9a8f7db11cc6f1c28c1753f22858a4d02bce9c0d8852131d68f33be3046f2',\n",
       "  'c9a19a9f41b1a8d85f9d51c2db3bddf14151df30e11310fd2f37211f258aa644',\n",
       "  'c6a0d56ce2d2088a28e7eee6f0ddcf620fea238a11f7ce6e93ca0bb6dcd9bd1b',\n",
       "  '5ebcdc470140989277276f7fa501b51ad1df4506e0cc05b4410776a8feb3abb8',\n",
       "  '32bf5c5acedb8454b4fbe914a7d864545190e47e718904811ea6fcff3751669a',\n",
       "  'd518d9d5ae7e46b4acc1ef8766de7c982d66ffc6702cab1724707c5299d9e36a',\n",
       "  'd80e6d4472043cc40a3c9b3cc8b707476ac9eaa8a1d1b946c80028cdfb6b614e',\n",
       "  '31aad402bfdfcb8bfbbb286806c169514b8321389f8ff42c6b6e46db7f83ae68',\n",
       "  '7dc1c8d2866a2162dbcadad2ba9b5322df01db792dd5a8a4d353918c7fe7533e',\n",
       "  'cb1fb8d45bd2d57559bea0a3370dc8024ca08f712db78d3817b1c2730464e414',\n",
       "  '40b6d545f023d0ac429857b6257647596c20a10fc3503ac9b75948a84e277649',\n",
       "  'd76c65ed669ac2f3ad1795d8c9752bcd2d96dc6a5c5f37f183569e797971a9d7',\n",
       "  '5c21fc1b82bc079ab10887485bb4a5ae789fd4be2c1e22525176fbd504fda998',\n",
       "  '77e0b3050b722aa48dd2f02ac2c17cb6a614e7b74ca6c02aa48162bb68d75525',\n",
       "  '8a8096e1557edfecfcd72408f667f85e1689eda95b6f057127b2b9bf2a8ef3d9',\n",
       "  '2cde34c6b779324459504b28ca7ab00ccc8f57efb261e116ed761dfdb8975f20',\n",
       "  'fd2a83277fef7928d8efa3aee6f39496946b3027bd6d4f948583b582b34de9fb',\n",
       "  '2179438a7325c89fc58e0715e97e380dd2a5f8950e0789b5ef209c66aba9b76a',\n",
       "  '56adce08d61ede5375538d8def643b0a55b4632cc94155dd7ca3b23dd76f4fe2',\n",
       "  '6b002e550086405d8f7a35165e8ad94b846639470849feed0ae03fbacde1674e',\n",
       "  '681d5de26a8c10d5bc39840db2ad2c8ec476c00e7a312741b324daeba470b9be',\n",
       "  '8514b13390b3e9979000460dbf6b556f4dd0ea0bb185b2b9d0fad37ea0fa73d7',\n",
       "  'b8925cc3bd031591cf9603eb90d8739da66d400f547b01395e192040ff774869',\n",
       "  '5b109b439dc06bf0edc46005ae6939501fd94312109f39d2341fd8c2ebdb46bc',\n",
       "  '540faeb8ca3c07b3305892e9333eee5aff19cd972698e7918fe29ebdd2da8f88',\n",
       "  'b578fd13a03ffbba32c54f20b526225379922bd131ffc2ff04eff572257f0b3f',\n",
       "  'bf5b944ada159ee08c75fd22a28e21ca7b173718fa9fb89de1d122d06155854d',\n",
       "  '6683280014cd44f5c396d4c9bb55a3a02b97a3bc984f77144ebe14adc2f9043c',\n",
       "  'a55040e4b6ec792e2b4ea07f5b63c4a782b1a6e76bd01f9f0648c7789b5e1295',\n",
       "  'e52528123d5fa56407bfad4356bd2683aefc745d1f839151706d4d1ae3cfd0ed',\n",
       "  'f6ee1d2a4c6cce4fe61e15e6548d145987870d5e65a16b75d81d6cd36d1d4566',\n",
       "  'bf33c22b93ce4eba9918a6cffdb23f874dd05fcc96ed2aa25512040e7b5f8f74',\n",
       "  '2c95d5dc97da6931c7424ed2b533f831d7fd53a04f0d8c8c8046bf4af422910f',\n",
       "  '1056257898e2708fc77cefe0b0dd966403efb3d66bf4720aeba4bc5e7b7be223',\n",
       "  '5160f85fc78217057add1f11ad6482651db9179873bfd4ca5583463cc10db522',\n",
       "  'e44e1352580719c4e65b2b6c0987cf6bd90b6cc30f11c04adc28e391ec2f7360',\n",
       "  'a1ee5227da61e20f78315f68dc9e8befaffc26ed4a56eb7b54e89dcf37d4bfd6',\n",
       "  'd4182fc5ca595871f335ff22762788e653ba01b2ce162e64765277c38631eb7f',\n",
       "  '03003920c480bfd247c7ae004541600974c2aa1409ad2ed9b17117334335e07b',\n",
       "  'a5adce5fba49c855b43c26573172aede938e8eea3887526ee513248658a81a81',\n",
       "  'a6e3121faad745649d729417b1da613a0daeb63ce612f881af83ff79df911d06',\n",
       "  '14f9165395501aeab7ea15c5e1d89066bfad8bcbe0e9b872012418ec0ecfd0e3',\n",
       "  'b1d2f60ad554220efd759f19958d27d31b9299a3dd1d834726f2b5698fa36c65',\n",
       "  'f0c9bfe822bf3fc8a51a6e2ef19d1bfe504f88815f2c71af447dfb63e2e255f3',\n",
       "  '11313f4e5c1834781f94ce25ab7a8b2459bc994f66f62126fc8ee2f98ed2b1a1',\n",
       "  '092409540a2b351f938ac04e322d409c587cc060acef5888cf290ec45346f2d1',\n",
       "  '8ad7d7defc5293b6f762781cf2641c1d0b54ccde9c84e3206a8339ff29498b41',\n",
       "  '07bbe271097fe6ac21366c3cd162d36c755439fa54bcfd83469cb0eb31ade15d',\n",
       "  '08d2b405cedc847a786d020ea0e928524fd382d423c1289c30a34274a1bddd1c',\n",
       "  'c4fcd657ec6f657edad5e7ea7dc1df3e75601141c60a3b742be2159d9deae6d9']}"
      ]
     },
     "execution_count": 81,
     "metadata": {},
     "output_type": "execute_result"
    }
   ],
   "source": [
    "tree.serialize()"
   ]
  },
  {
   "cell_type": "code",
   "execution_count": 82,
   "id": "30eaacbb-4620-4e86-993c-f7b424f764c2",
   "metadata": {},
   "outputs": [
    {
     "name": "stdout",
     "output_type": "stream",
     "text": [
      "b'2d311adc67b04502c75d38137c0fadb1a421876cd4e4a148462f9fd27acbd2e3'\n",
      "32643331316164633637623034353032633735643338313337633066616462316134323138373663643465346131343834363266396664323761636264326533\n",
      "b'2d311adc67b04502c75d38137c0fadb1a421876cd4e4a148462f9fd27acbd2e3'\n"
     ]
    }
   ],
   "source": [
    "root_hash = tree.get_root_hash()\n",
    "print(root_hash)\n",
    "root_hash_hex = tree.get_root_hash().hex()\n",
    "print(root_hash_hex)\n",
    "root_hash_test = bytes.fromhex(root_hash_hex)\n",
    "print(root_hash_test)"
   ]
  },
  {
   "cell_type": "code",
   "execution_count": 83,
   "id": "618a4793-dbe1-4061-91d5-93ac7d2ac412",
   "metadata": {
    "tags": []
   },
   "outputs": [
    {
     "name": "stdout",
     "output_type": "stream",
     "text": [
      "\n",
      " └─2d311adc67b04502c75d38137c0fadb1a421876cd4e4a148462f9fd27acbd2e3\n",
      "     ├──9a151e7d976a5c0faf38181d27d53965f7b3b65aba2890dc970abdc45e585898\n",
      "     │    ├──7f67c845666b3eab9f72e3c12cf7c02d677758ede51915ff3fd0044b20a86f36\n",
      "     │    │    ├──1ce81f0082ec6bf7b0a4ccd55b8ccfb5cbd4ee06715a1305b9c26ced3581eeb9\n",
      "     │    │    │    ├──a9194f4227c683b65035aa39fe6f1a7290c4506dd4c44a2b52b44fe9e6c47731\n",
      "     │    │    │    │    ├──c043f37f34cb464b599ed3d0096b26cbc89e0403ceef02e31f17716cb65b0ae5\n",
      "     │    │    │    │    │    ├──9b00f3dd4a4009b833bf57e13c2df608ee288e6156edd8ffc0c75be3c50add9b\n",
      "     │    │    │    │    │    └──d687344890c0655581b86378f1a609e3e99031597cfbefa9434563136ea2481b\n",
      "     │    │    │    │    └──a6f0dc4ffde91372f442eda41e20669171ce73a32281eb6cae08afb16f581297\n",
      "     │    │    │    │         ├──d339d7be966f11614fd130ca6493f5189bff2d60d38efb64a0fb0ea4babf737e\n",
      "     │    │    │    │         └──4fa54c0225eb4e467b8b703ccb7a06dcd43745af817fb8a3f0a5def774d447da\n",
      "     │    │    │    └──731b9119e8b7008bbf2b3215ce96fde6290c39965898d70004b509c31a1a08dc\n",
      "     │    │    │         ├──0002d3ba10a9eb673fc2b077120b59d71a3d3f4b62e7048c7e248782c797317b\n",
      "     │    │    │              ├──841d297cc2d531ab6f3ce94b65e79a3e774f69c7e8cfe678ac417d8404acfc6d\n",
      "     │    │    │              └──730d7c27af0f92bf4b2116f4527e823ab5e6c923833087a558b3ce82a5f34d5e\n",
      "     │    │    │         └──b4b6b103c7d1fccf82cb19cb064a0a505ee0c348fef5b61b688f4619901e7b42\n",
      "     │    │    │              ├──81db6887953389f47d00458615204dd5e7f7091c48a2a6d02f800d81dfc5fe36\n",
      "     │    │    │              └──b60e991988823da94ed451c7fe32523ba80cb8adc6be7a0a71a3f04a922e0b2c\n",
      "     │    │    └──0892223ec91dc46936b71d86954d7b0e48b7116374e5d2bb06a142fc3b9f2376\n",
      "     │    │         ├──b8ce9703296ad55b5526b1ec67e52c97e7c6b66c6d1f7b5f1eba1322596cf6f2\n",
      "     │    │              ├──03a01cda611b8ec45b67936571e3179086832dce9076fc9756daa43b91e59d22\n",
      "     │    │                   ├──542186cd9900b415ec96a6237afad434d115c9c8192851000803e8ee9ecb231a\n",
      "     │    │                   └──ce3ffa0400e0b85ecd442013619cca896311cb8e60927010b51152ede47b5462\n",
      "     │    │              └──08ee6a6f6ac372746c2f4ad27db9a0e3da3a3e1f6162c3d42a24bd4eca71ff60\n",
      "     │    │                   ├──e7c9a8f7db11cc6f1c28c1753f22858a4d02bce9c0d8852131d68f33be3046f2\n",
      "     │    │                   └──c9a19a9f41b1a8d85f9d51c2db3bddf14151df30e11310fd2f37211f258aa644\n",
      "     │    │         └──ed8aeaa4b509d3cd3ddcd84d0182cf8594d0d6fb979a33ba607aac5525821e84\n",
      "     │    │              ├──ebda4fcb762677736005e90a14c83b9cfb1ab630ccd62682dc27eb18cc6c70e7\n",
      "     │    │                   ├──c6a0d56ce2d2088a28e7eee6f0ddcf620fea238a11f7ce6e93ca0bb6dcd9bd1b\n",
      "     │    │                   └──5ebcdc470140989277276f7fa501b51ad1df4506e0cc05b4410776a8feb3abb8\n",
      "     │    │              └──09dc182756a1f5cb5e3b96ff97f2e1390c7dd1e68217c0892151eb119cc76fa9\n",
      "     │    │                   ├──32bf5c5acedb8454b4fbe914a7d864545190e47e718904811ea6fcff3751669a\n",
      "     │    │                   └──d518d9d5ae7e46b4acc1ef8766de7c982d66ffc6702cab1724707c5299d9e36a\n",
      "     │    └──a3dac4fcc69413d79d9730f4e4657cef35b616507b8184c5cff08b792654580d\n",
      "     │         ├──bc0623f38516e6ea4f533c753fd65f18a7943aac7de217159feaa07a070c1532\n",
      "     │              ├──31f421c808ef73d36a0d245f7c6de6018d19905bb88559bb3bcd8839e029a721\n",
      "     │                   ├──af28d1b361886561e5e2ea1e36121cd6704fcc1906f222e751cca6c29bcfa9fc\n",
      "     │                        ├──d80e6d4472043cc40a3c9b3cc8b707476ac9eaa8a1d1b946c80028cdfb6b614e\n",
      "     │                        └──31aad402bfdfcb8bfbbb286806c169514b8321389f8ff42c6b6e46db7f83ae68\n",
      "     │                   └──ff07960dac277e0b895b5266036dc04e0f44333e103f65478a509d8cac7671df\n",
      "     │                        ├──7dc1c8d2866a2162dbcadad2ba9b5322df01db792dd5a8a4d353918c7fe7533e\n",
      "     │                        └──cb1fb8d45bd2d57559bea0a3370dc8024ca08f712db78d3817b1c2730464e414\n",
      "     │              └──80fa69ac2271d2dfaf8db7bb18ad088f9e0b73859bb4ec29e149b27c3f5b449a\n",
      "     │                   ├──fd2c1081d6fd22d291f90302402de0b4559a40664d4956aa200df53f002579b4\n",
      "     │                        ├──40b6d545f023d0ac429857b6257647596c20a10fc3503ac9b75948a84e277649\n",
      "     │                        └──d76c65ed669ac2f3ad1795d8c9752bcd2d96dc6a5c5f37f183569e797971a9d7\n",
      "     │                   └──fc6db0bc119e9d3b01274de5db8abf32753cfa8681748fb8c5ae214f27c63881\n",
      "     │                        ├──5c21fc1b82bc079ab10887485bb4a5ae789fd4be2c1e22525176fbd504fda998\n",
      "     │                        └──77e0b3050b722aa48dd2f02ac2c17cb6a614e7b74ca6c02aa48162bb68d75525\n",
      "     │         └──317bd696ff57fed83359f6a5372efca325a8795f5126ac310a8181ee4d74679d\n",
      "     │              ├──8962a9eb1e6378372a7c2cd672ad3a8480a3be8b07b2ae95bcc05783018a0963\n",
      "     │                   ├──71965d0d592cbb91b34c045edf8004cd10b48b545ae53bab5958933efa3fc4fa\n",
      "     │                        ├──8a8096e1557edfecfcd72408f667f85e1689eda95b6f057127b2b9bf2a8ef3d9\n",
      "     │                        └──2cde34c6b779324459504b28ca7ab00ccc8f57efb261e116ed761dfdb8975f20\n",
      "     │                   └──7b36a4e934a34d9fbea74dcabb5707bac0ee6cd0711eb2bf3c4128d7919d8029\n",
      "     │                        ├──fd2a83277fef7928d8efa3aee6f39496946b3027bd6d4f948583b582b34de9fb\n",
      "     │                        └──2179438a7325c89fc58e0715e97e380dd2a5f8950e0789b5ef209c66aba9b76a\n",
      "     │              └──5a7541dcc118acebce4e8423c9886968ed999b9da2b69fb4fbf5d69d1ccdf14f\n",
      "     │                   ├──5e651b3cd2d49f3f100635407a52e15996e12f0e61f3bf84e484cac21dc739ca\n",
      "     │                        ├──56adce08d61ede5375538d8def643b0a55b4632cc94155dd7ca3b23dd76f4fe2\n",
      "     │                        └──6b002e550086405d8f7a35165e8ad94b846639470849feed0ae03fbacde1674e\n",
      "     │                   └──71d2a5134d277d80f2f44db7f33a70c5afe92bd09e015aa426ba252fdd1cc5ca\n",
      "     │                        ├──681d5de26a8c10d5bc39840db2ad2c8ec476c00e7a312741b324daeba470b9be\n",
      "     │                        └──8514b13390b3e9979000460dbf6b556f4dd0ea0bb185b2b9d0fad37ea0fa73d7\n",
      "     └──a4ef6c0f2d7d296e2bb9b9ce83ee6b5d7a17a7536e2e348fb2b486a5d8f3f7ea\n",
      "          ├──43ade3be5bd02d340eacc4bdd4a8a88b819b8d11d4700436b25688198a4ce0d7\n",
      "               ├──73cdd87a557d376941ebe72fd436ca23b67862abc02e25db2c2c15ad9db922f0\n",
      "                    ├──f02d11c4b0eecce819de9ce694376d3401cae350144cb508ecfd37e316ba020e\n",
      "                         ├──6d9e50a9deafab393a6d19ea3ec4b90df2e9ac32100626531ce60a85f5ae3771\n",
      "                              ├──b8925cc3bd031591cf9603eb90d8739da66d400f547b01395e192040ff774869\n",
      "                              └──5b109b439dc06bf0edc46005ae6939501fd94312109f39d2341fd8c2ebdb46bc\n",
      "                         └──645e9f0945000c0ded31c5cd3e83fac0b6dac69c479954a9d84cd7823f2dc6d5\n",
      "                              ├──540faeb8ca3c07b3305892e9333eee5aff19cd972698e7918fe29ebdd2da8f88\n",
      "                              └──b578fd13a03ffbba32c54f20b526225379922bd131ffc2ff04eff572257f0b3f\n",
      "                    └──f1e4ddd1bb8fb9ab4d0cd18e0faec2510e8f87e5fabb4bfd40dc4e161ebf4369\n",
      "                         ├──2ac8101bd5cc4b9889e7e083f111de5532ff5bca6b9d3fd3e13184636230e7e4\n",
      "                              ├──bf5b944ada159ee08c75fd22a28e21ca7b173718fa9fb89de1d122d06155854d\n",
      "                              └──6683280014cd44f5c396d4c9bb55a3a02b97a3bc984f77144ebe14adc2f9043c\n",
      "                         └──8413dbd5e062f07c37a569e245b025c17f4d80d4f47b15a241bddd0d78d2b8d2\n",
      "                              ├──a55040e4b6ec792e2b4ea07f5b63c4a782b1a6e76bd01f9f0648c7789b5e1295\n",
      "                              └──e52528123d5fa56407bfad4356bd2683aefc745d1f839151706d4d1ae3cfd0ed\n",
      "               └──69474d7fedf2668630fd57589cbb07fb989c822bd97502f46b4214cfec5fa17b\n",
      "                    ├──e0d346d9de3f2e16cbc93b0465f7466f072b3a3823ab5a29bce5543f40c23b50\n",
      "                         ├──8b46c6ca6bd463126999b26c01fc2a8f32633d9922829a580d34f7c7ecb5e367\n",
      "                              ├──f6ee1d2a4c6cce4fe61e15e6548d145987870d5e65a16b75d81d6cd36d1d4566\n",
      "                              └──bf33c22b93ce4eba9918a6cffdb23f874dd05fcc96ed2aa25512040e7b5f8f74\n",
      "                         └──2b6a2778bf0f42e4ea21ed14d3d38dea628fdfefebb4448620e3d383aa3556de\n",
      "                              ├──2c95d5dc97da6931c7424ed2b533f831d7fd53a04f0d8c8c8046bf4af422910f\n",
      "                              └──1056257898e2708fc77cefe0b0dd966403efb3d66bf4720aeba4bc5e7b7be223\n",
      "                    └──65d6495b1bc0ee1b99394d9efc3e87ca3f4b5aa90b7e86935cd70052b2335b7c\n",
      "                         ├──e530fb831bc12300fc4e440706438d3c939eb5d4d48449515c89c720a9e7b871\n",
      "                              ├──5160f85fc78217057add1f11ad6482651db9179873bfd4ca5583463cc10db522\n",
      "                              └──e44e1352580719c4e65b2b6c0987cf6bd90b6cc30f11c04adc28e391ec2f7360\n",
      "                         └──246cd3a0df3cc41fabbdcded0b75fb01c9c662fa8b73f541fe4ac31f27a7dde9\n",
      "                              ├──a1ee5227da61e20f78315f68dc9e8befaffc26ed4a56eb7b54e89dcf37d4bfd6\n",
      "                              └──d4182fc5ca595871f335ff22762788e653ba01b2ce162e64765277c38631eb7f\n",
      "          └──0a11ac2756939dde085ec3cd19f0986d071cab372ede5cb3d04d7c56b9dca697\n",
      "               ├──daa09bf9efe7e1b7d623ae081b77ac3097e95b9df9d2a9e96eb7793c27472702\n",
      "                    ├──df863acf57b32005ff69a782a48ee6aee181fbc7035c2d86ea9ccf3959986f85\n",
      "                         ├──03d418f64693fa52c05689ae82951326461b89977c20c145ab866648147acb2a\n",
      "                              ├──03003920c480bfd247c7ae004541600974c2aa1409ad2ed9b17117334335e07b\n",
      "                              └──a5adce5fba49c855b43c26573172aede938e8eea3887526ee513248658a81a81\n",
      "                         └──0335add24a5cc639a373e636961a86fa699f7b1134ec37d646f0eb09663e0890\n",
      "                              ├──a6e3121faad745649d729417b1da613a0daeb63ce612f881af83ff79df911d06\n",
      "                              └──14f9165395501aeab7ea15c5e1d89066bfad8bcbe0e9b872012418ec0ecfd0e3\n",
      "                    └──079e037dfece3af6d6e75d08ea9c5b5e5bd83bb3d279f2c6a2749c57873ad1c6\n",
      "                         ├──2ad83021928628110352cec8e9294d218b13fd6b96ebe642745ca79a0a5d0690\n",
      "                              ├──b1d2f60ad554220efd759f19958d27d31b9299a3dd1d834726f2b5698fa36c65\n",
      "                              └──f0c9bfe822bf3fc8a51a6e2ef19d1bfe504f88815f2c71af447dfb63e2e255f3\n",
      "                         └──12d5a26bed10cde2587bbbd5445b6b160069e24672233456457aa6817ab8c5e0\n",
      "                              ├──11313f4e5c1834781f94ce25ab7a8b2459bc994f66f62126fc8ee2f98ed2b1a1\n",
      "                              └──092409540a2b351f938ac04e322d409c587cc060acef5888cf290ec45346f2d1\n",
      "               └──24593d10d60c73c86f4f360c006a75e0e7ead3dee9ed39abd8bd513c960a7e83\n",
      "                    ├──e562419e325301a959d2d25a40a6bae9703545d0777611507ac955f385222953\n",
      "                         ├──8ad7d7defc5293b6f762781cf2641c1d0b54ccde9c84e3206a8339ff29498b41\n",
      "                         └──07bbe271097fe6ac21366c3cd162d36c755439fa54bcfd83469cb0eb31ade15d\n",
      "                    └──dd0d1e47d471b843f286ad6ea297d628fb241a35aa5d9a61893d5241c38d8780\n",
      "                         ├──08d2b405cedc847a786d020ea0e928524fd382d423c1289c30a34274a1bddd1c\n",
      "                         └──c4fcd657ec6f657edad5e7ea7dc1df3e75601141c60a3b742be2159d9deae6d9\n",
      "\n"
     ]
    }
   ],
   "source": [
    "print(tree)"
   ]
  },
  {
   "cell_type": "markdown",
   "id": "7d3a261c-a2d6-4d44-94e2-3ffd045e76c1",
   "metadata": {},
   "source": [
    "### Multibase DID merkle-tree root encoding"
   ]
  },
  {
   "cell_type": "code",
   "execution_count": 84,
   "id": "83752013-2b8d-42cd-8973-851e6385994b",
   "metadata": {},
   "outputs": [],
   "source": [
    "root_hash_encoded = base58.b58encode(bytes.fromhex(root_hash.decode('utf8')))"
   ]
  },
  {
   "cell_type": "code",
   "execution_count": 85,
   "id": "7eaff0a3-653b-49b0-bc46-dd75708b34b7",
   "metadata": {},
   "outputs": [
    {
     "data": {
      "text/plain": [
       "b'43QmxFTrroJaV447BRu9TzfA5xWXSV5wC3StUbnFhp9x'"
      ]
     },
     "execution_count": 85,
     "metadata": {},
     "output_type": "execute_result"
    }
   ],
   "source": [
    "root_hash_encoded"
   ]
  },
  {
   "cell_type": "code",
   "execution_count": 86,
   "id": "6dd1f354-8687-40b2-b6e4-3461a1bdd0c6",
   "metadata": {},
   "outputs": [],
   "source": [
    "root_hash_decoded = base58.b58decode(root_hash_encoded).hex()"
   ]
  },
  {
   "cell_type": "code",
   "execution_count": 87,
   "id": "ff6cbca8-e6a3-4ae1-84a1-acc257e24a85",
   "metadata": {},
   "outputs": [
    {
     "data": {
      "text/plain": [
       "'2d311adc67b04502c75d38137c0fadb1a421876cd4e4a148462f9fd27acbd2e3'"
      ]
     },
     "execution_count": 87,
     "metadata": {},
     "output_type": "execute_result"
    }
   ],
   "source": [
    "root_hash_decoded"
   ]
  },
  {
   "cell_type": "markdown",
   "id": "6685d16d-b9bc-47b9-8815-e06fdeebbeaa",
   "metadata": {},
   "source": [
    "## Create Merkle DID"
   ]
  },
  {
   "cell_type": "code",
   "execution_count": 88,
   "id": "690c497d-5d61-4468-8c62-dc42976b5e2a",
   "metadata": {},
   "outputs": [],
   "source": [
    "didmerkle = \"did:merkle:\" + root_hash_encoded.decode()"
   ]
  },
  {
   "cell_type": "code",
   "execution_count": 89,
   "id": "646366ac-ffb0-4db0-b925-6767341ca245",
   "metadata": {},
   "outputs": [
    {
     "data": {
      "text/plain": [
       "'did:merkle:43QmxFTrroJaV447BRu9TzfA5xWXSV5wC3StUbnFhp9x'"
      ]
     },
     "execution_count": 89,
     "metadata": {},
     "output_type": "execute_result"
    }
   ],
   "source": [
    "didmerkle"
   ]
  },
  {
   "cell_type": "markdown",
   "id": "4de3e4ea-d6ad-4832-9ece-62a6390c2f60",
   "metadata": {},
   "source": [
    "## Resolve DID"
   ]
  },
  {
   "cell_type": "code",
   "execution_count": 96,
   "id": "019e86c8-ef29-4083-bb43-b55a4080955b",
   "metadata": {},
   "outputs": [
    {
     "data": {
      "text/plain": [
       "dict"
      ]
     },
     "execution_count": 96,
     "metadata": {},
     "output_type": "execute_result"
    }
   ],
   "source": [
    "did_format_template = '''\n",
    "{\n",
    "  \"@context\": \"https://www.w3.org/ns/did/v1\",\n",
    "  \"id\": \"did:merkle:zH3C2AVvLMv6gmMNam3uVAjZpfkcJCwDwnZn6z3wXmqPV\"\n",
    "}\n",
    "'''\n",
    "did_format_json = json.loads(did_format_template)\n",
    "type(did_format_json)"
   ]
  },
  {
   "cell_type": "markdown",
   "id": "c1c285f4-5dab-445b-939a-35e64656ef50",
   "metadata": {},
   "source": [
    "### Construct Deterministic DID Document"
   ]
  },
  {
   "cell_type": "code",
   "execution_count": 97,
   "id": "f4e2d265-d21b-44d1-a9f8-735797f22242",
   "metadata": {},
   "outputs": [],
   "source": [
    "did_format_json[\"id\"] = didmerkle"
   ]
  },
  {
   "cell_type": "code",
   "execution_count": 98,
   "id": "a19e2c43-9a31-439c-996b-10a50e3566c5",
   "metadata": {},
   "outputs": [
    {
     "data": {
      "text/plain": [
       "{'@context': 'https://www.w3.org/ns/did/v1',\n",
       " 'id': 'did:merkle:43QmxFTrroJaV447BRu9TzfA5xWXSV5wC3StUbnFhp9x'}"
      ]
     },
     "execution_count": 98,
     "metadata": {},
     "output_type": "execute_result"
    }
   ],
   "source": [
    "did_format_json"
   ]
  },
  {
   "cell_type": "markdown",
   "id": "82b3e185-62e5-460c-83fe-b30074fba27e",
   "metadata": {},
   "source": [
    "# Issue Verifiable Credential to Holders"
   ]
  },
  {
   "cell_type": "markdown",
   "id": "479c4b93-9ab3-4c22-a72e-1d0bd488c27b",
   "metadata": {},
   "source": [
    "## VC Template"
   ]
  },
  {
   "cell_type": "code",
   "execution_count": 99,
   "id": "72acf7f0-9a41-449a-bd29-8bcb72ac5bb2",
   "metadata": {},
   "outputs": [
    {
     "data": {
      "text/plain": [
       "dict"
      ]
     },
     "execution_count": 99,
     "metadata": {},
     "output_type": "execute_result"
    }
   ],
   "source": [
    "vc_format_template = '''\n",
    "{\n",
    "  \"@context\": [\n",
    "    \"https://www.w3.org/2018/credentials/v1\",\n",
    "    \"https://www.w3.org/2018/credentials/examples/v1\",\n",
    "    \"https://hackmd.io/@JoeAndrieu/Hk_2NMmfi/download\"\n",
    "  ],\n",
    "  \"type\": [\n",
    "    \"VerifiableCredential\"\n",
    "  ],\n",
    "  \"issuer\": \"did:ex:italy\",\n",
    "  \"issuanceDate\": \"2010-01-01T19:23:24Z\",\n",
    "  \"credentialSubject\": {\n",
    "    \"@context\": \"https://hackmd.io/@JoeAndrieu/r1ADDMQGs/download\",\n",
    "    \"id\": \"did:merkle:zH3C2AVvLMv6gmMNam3uVAjZpfkcJCwDwnZn6z3wXmqPV\",\n",
    "    \"citizenship\": \"it\"\n",
    "  },\n",
    "  \"proof\": {\n",
    "    \"type\": \"RsaSignature2018\",\n",
    "    \"created\": \"2017-06-18T21:19:10Z\",\n",
    "    \"proofPurpose\": \"assertionMethod\",\n",
    "    \"verificationMethod\": \"did:ex:italy#key-1\",\n",
    "    \"proof\": \"eyJhbGciOiJSUzI1NiIsImI2NCI6ZmFsc2UsImNyaXQiOlsiYjY0Il19..TCYt5XsITJX1CxPCT8yAV-TVkIEq_PbChOMqsLfRoPsnsgw5WEuts01mq-pQy7UJiN5mgRxD-WUcX16dUEMGlv50aqzpqh4Qktb3rk-BuQy72IFLOqV0G_zS245-kronKb78cPN25DGlcTwLtjPAYuNzVBAh4vGHSrQyHUdBBPM\"\n",
    "  }\n",
    "}\n",
    "'''\n",
    "vc_format_template_json = json.loads(vc_format_template)\n",
    "type(vc_format_template_json)"
   ]
  },
  {
   "cell_type": "markdown",
   "id": "ac39bfac-4d2a-4e56-9e84-03ade2233654",
   "metadata": {},
   "source": [
    "## Create DID of Issuer"
   ]
  },
  {
   "cell_type": "code",
   "execution_count": 100,
   "id": "dcd11f07-468b-4cd9-adb0-51c5b18184b6",
   "metadata": {},
   "outputs": [],
   "source": [
    "import asyncio\n",
    "import didkit\n",
    "import json\n",
    "\n",
    "jwk = didkit.generate_ed25519_key()\n",
    "did = didkit.key_to_did(\"key\", jwk)"
   ]
  },
  {
   "cell_type": "markdown",
   "id": "9029635d-0bc0-4037-92e3-f5a7fa561c00",
   "metadata": {},
   "source": [
    "### Issue credential"
   ]
  },
  {
   "cell_type": "code",
   "execution_count": 107,
   "id": "3d78a302-e865-49d4-8e2b-c8d6dd58205a",
   "metadata": {},
   "outputs": [
    {
     "name": "stderr",
     "output_type": "stream",
     "text": [
      "unknown context https://github.com/WebOfTrustInfo/rwot11-the-hague/raw/master/draft-documents/didmerkle/context\n"
     ]
    },
    {
     "ename": "DIDKitException",
     "evalue": "loading remote context failed",
     "output_type": "error",
     "traceback": [
      "\u001b[0;31m---------------------------------------------------------------------------\u001b[0m",
      "\u001b[0;31mDIDKitException\u001b[0m                           Traceback (most recent call last)",
      "Input \u001b[0;32mIn [107]\u001b[0m, in \u001b[0;36m<cell line: 23>\u001b[0;34m()\u001b[0m\n\u001b[1;32m     17\u001b[0m     signed_credential \u001b[38;5;241m=\u001b[39m \u001b[38;5;28;01mawait\u001b[39;00m didkit\u001b[38;5;241m.\u001b[39missue_credential(\n\u001b[1;32m     18\u001b[0m         json\u001b[38;5;241m.\u001b[39mdumps(credential),\n\u001b[1;32m     19\u001b[0m         json\u001b[38;5;241m.\u001b[39mdumps({}),\n\u001b[1;32m     20\u001b[0m         jwk)\n\u001b[1;32m     21\u001b[0m     \u001b[38;5;28mprint\u001b[39m(json\u001b[38;5;241m.\u001b[39mloads(signed_credential))\n\u001b[0;32m---> 23\u001b[0m \u001b[38;5;28;01mawait\u001b[39;00m(main())\n",
      "Input \u001b[0;32mIn [107]\u001b[0m, in \u001b[0;36mmain\u001b[0;34m()\u001b[0m\n\u001b[1;32m     16\u001b[0m \u001b[38;5;28;01masync\u001b[39;00m \u001b[38;5;28;01mdef\u001b[39;00m \u001b[38;5;21mmain\u001b[39m():\n\u001b[0;32m---> 17\u001b[0m     signed_credential \u001b[38;5;241m=\u001b[39m \u001b[38;5;28;01mawait\u001b[39;00m didkit\u001b[38;5;241m.\u001b[39missue_credential(\n\u001b[1;32m     18\u001b[0m         json\u001b[38;5;241m.\u001b[39mdumps(credential),\n\u001b[1;32m     19\u001b[0m         json\u001b[38;5;241m.\u001b[39mdumps({}),\n\u001b[1;32m     20\u001b[0m         jwk)\n\u001b[1;32m     21\u001b[0m     \u001b[38;5;28mprint\u001b[39m(json\u001b[38;5;241m.\u001b[39mloads(signed_credential))\n",
      "\u001b[0;31mDIDKitException\u001b[0m: loading remote context failed"
     ]
    }
   ],
   "source": [
    "credential = {\n",
    "  \"@context\": \"https://www.w3.org/2018/credentials/v1\",\n",
    "  \"id\": \"http://example.org/credentials/3731\",\n",
    "  \"type\": [\n",
    "    \"VerifiableCredential\"\n",
    "  ],\n",
    "  \"issuer\": did,\n",
    "  \"issuanceDate\": \"2022-09-30T11:20:50Z\",\n",
    "  \"credentialSubject\": {\n",
    "    \"@context\": \"https://github.com/WebOfTrustInfo/rwot11-the-hague/raw/master/draft-documents/didmerkle/context\",\n",
    "    \"id\": didmerkle,\n",
    "    \"citizenship\": \"IT\"\n",
    "  }\n",
    "}\n",
    "\n",
    "async def main():\n",
    "    signed_credential = await didkit.issue_credential(\n",
    "        json.dumps(credential),\n",
    "        json.dumps({}),\n",
    "        jwk)\n",
    "    print(json.loads(signed_credential))\n",
    "\n",
    "await(main())"
   ]
  },
  {
   "cell_type": "code",
   "execution_count": 34,
   "id": "ae0c81c7-c9ed-4fd4-a0b5-c13c9e4dff8c",
   "metadata": {},
   "outputs": [
    {
     "name": "stderr",
     "output_type": "stream",
     "text": [
      "unknown context https://hackmd.io/@JoeAndrieu/Hk_2NMmfi/download\n"
     ]
    },
    {
     "ename": "DIDKitException",
     "evalue": "loading remote context failed",
     "output_type": "error",
     "traceback": [
      "\u001b[0;31m---------------------------------------------------------------------------\u001b[0m",
      "\u001b[0;31mDIDKitException\u001b[0m                           Traceback (most recent call last)",
      "Input \u001b[0;32mIn [34]\u001b[0m, in \u001b[0;36m<cell line: 39>\u001b[0;34m()\u001b[0m\n\u001b[1;32m     33\u001b[0m     signed_credential \u001b[38;5;241m=\u001b[39m \u001b[38;5;28;01mawait\u001b[39;00m didkit\u001b[38;5;241m.\u001b[39missue_credential(\n\u001b[1;32m     34\u001b[0m         json\u001b[38;5;241m.\u001b[39mdumps(credential),\n\u001b[1;32m     35\u001b[0m         json\u001b[38;5;241m.\u001b[39mdumps({}),\n\u001b[1;32m     36\u001b[0m         jwk)\n\u001b[1;32m     37\u001b[0m     \u001b[38;5;28mprint\u001b[39m(json\u001b[38;5;241m.\u001b[39mloads(signed_credential))\n\u001b[0;32m---> 39\u001b[0m \u001b[38;5;28;01mawait\u001b[39;00m(main())\n",
      "Input \u001b[0;32mIn [34]\u001b[0m, in \u001b[0;36mmain\u001b[0;34m()\u001b[0m\n\u001b[1;32m     32\u001b[0m \u001b[38;5;28;01masync\u001b[39;00m \u001b[38;5;28;01mdef\u001b[39;00m \u001b[38;5;21mmain\u001b[39m():\n\u001b[0;32m---> 33\u001b[0m     signed_credential \u001b[38;5;241m=\u001b[39m \u001b[38;5;28;01mawait\u001b[39;00m didkit\u001b[38;5;241m.\u001b[39missue_credential(\n\u001b[1;32m     34\u001b[0m         json\u001b[38;5;241m.\u001b[39mdumps(credential),\n\u001b[1;32m     35\u001b[0m         json\u001b[38;5;241m.\u001b[39mdumps({}),\n\u001b[1;32m     36\u001b[0m         jwk)\n\u001b[1;32m     37\u001b[0m     \u001b[38;5;28mprint\u001b[39m(json\u001b[38;5;241m.\u001b[39mloads(signed_credential))\n",
      "\u001b[0;31mDIDKitException\u001b[0m: loading remote context failed"
     ]
    }
   ],
   "source": [
    "import asyncio\n",
    "import didkit\n",
    "import json\n",
    "\n",
    "jwk = didkit.generate_ed25519_key()\n",
    "did = didkit.key_to_did(\"key\", jwk)\n",
    "credential = {\n",
    "  \"@context\": [\n",
    "    \"https://www.w3.org/2018/credentials/v1\",\n",
    "    \"https://www.w3.org/2018/credentials/examples/v1\",\n",
    "    \"https://hackmd.io/@JoeAndrieu/Hk_2NMmfi/download\"\n",
    "  ],\n",
    "  \"type\": [\n",
    "    \"VerifiableCredential\"\n",
    "  ],\n",
    "  \"issuer\": did,\n",
    "  \"issuanceDate\": \"2010-01-01T19:23:24Z\",\n",
    "  \"credentialSubject\": {\n",
    "    \"@context\": \"https://hackmd.io/@JoeAndrieu/r1ADDMQGs/download\",\n",
    "    \"id\": didmerkle,\n",
    "    \"citizenship\": \"it\"\n",
    "  },\n",
    "  \"proof\": {\n",
    "    \"type\": \"RsaSignature2018\",\n",
    "    \"created\": \"2017-06-18T21:19:10Z\",\n",
    "    \"proofPurpose\": \"assertionMethod\",\n",
    "    \"verificationMethod\": \"did:ex:italy#key-1\",\n",
    "    \"proof\": \"eyJhbGciOiJSUzI1NiIsImI2NCI6ZmFsc2UsImNyaXQiOlsiYjY0Il19..TCYt5XsITJX1CxPCT8yAV-TVkIEq_PbChOMqsLfRoPsnsgw5WEuts01mq-pQy7UJiN5mgRxD-WUcX16dUEMGlv50aqzpqh4Qktb3rk-BuQy72IFLOqV0G_zS245-kronKb78cPN25DGlcTwLtjPAYuNzVBAh4vGHSrQyHUdBBPM\"\n",
    "  }\n",
    "}\n",
    "\n",
    "async def main():\n",
    "    signed_credential = await didkit.issue_credential(\n",
    "        json.dumps(credential),\n",
    "        json.dumps({}),\n",
    "        jwk)\n",
    "    print(json.loads(signed_credential))\n",
    "\n",
    "await(main())"
   ]
  },
  {
   "cell_type": "markdown",
   "id": "03b62c04-be53-45e6-a519-0d66b1b8c1ce",
   "metadata": {},
   "source": [
    "### Prove and verify encryption of `Juliet Pubkey 5`"
   ]
  },
  {
   "cell_type": "code",
   "execution_count": 65,
   "id": "ffbda00e-f05b-47be-9f63-5c42fa2893ce",
   "metadata": {},
   "outputs": [
    {
     "data": {
      "text/plain": [
       "b'7f59ef987e293d9275913cc5c16d9f9a5a2a0d2408eac86b0ee5b734d8a6131e'"
      ]
     },
     "execution_count": 65,
     "metadata": {},
     "output_type": "execute_result"
    }
   ],
   "source": [
    "# TODO: Generate hashes from pubkeys that can be used in merkle-trees\n",
    "m = hashlib.sha256()\n",
    "m.update(juliet_pubkeys['pubkey'][4].encode())\n",
    "m.hexdigest().encode()"
   ]
  },
  {
   "cell_type": "code",
   "execution_count": 66,
   "id": "9a2f980b-df73-4d06-9a43-163dacd568bf",
   "metadata": {},
   "outputs": [
    {
     "data": {
      "text/plain": [
       "True"
      ]
     },
     "execution_count": 66,
     "metadata": {},
     "output_type": "execute_result"
    }
   ],
   "source": [
    "challenge = tree.serialize()[\"hashes\"][5].encode()\n",
    "proof = tree.generate_audit_proof(challenge)\n",
    "proof.verify()"
   ]
  },
  {
   "cell_type": "code",
   "execution_count": 67,
   "id": "5dbe1578-f3cb-4f88-9d0c-28f29d820609",
   "metadata": {},
   "outputs": [
    {
     "data": {
      "text/plain": [
       "\n",
       "    ----------------------------------- PROOF ------------------------------------\n",
       "\n",
       "    uuid        : 064b2eb4-40a1-11ed-86de-0242ac110002\n",
       "\n",
       "    timestamp   : 1664529585 (Fri Sep 30 09:19:45 2022)\n",
       "    provider    : c2a337d8-40a0-11ed-86de-0242ac110002\n",
       "\n",
       "    hash-type   : SHA256\n",
       "    encoding    : UTF-8\n",
       "    security    : ACTIVATED\n",
       "\n",
       "    \n",
       "       [0]   +1   7d9ba80c4c9d18459f0d24626b0ef0d28570951b12575bc3aab176e0660cf664\n",
       "       [1]   +1   7acb25b3abe8409f5214ac003018c859e1034f7a0a697437a3096ada6d7f5787\n",
       "       [2]   -1   da179c6013e96cdbafcd86f642f8ff26b417ec4b4f67e0549eb44f5f08101ff1\n",
       "       [3]   -1   e266f6765db79bf1a5c0a798f5593d7ea3792700d3a2146ff548c94e44ddfec2\n",
       "       [4]   +1   2c03288a873edf49a093b992072be86509527af5b43d4f4cd578d20cfbf532d6\n",
       "       [5]   +1   cacf4fe24bba125ac74993705ee43533372e8ff7e9034949bb971b0bc4fc52cb\n",
       "       [6]   -1   d1880ea59ac550100ec29e4d40814ef6fb80e3027820469662000e8638c60f8f\n",
       "\n",
       "    offset      : 2\n",
       "\n",
       "    commitment  : 705b48a99a4308193c646927c25d9238ae4c6b7d133fe166994293e34e2ef10c\n",
       "\n",
       "    -------------------------------- END OF PROOF --------------------------------"
      ]
     },
     "execution_count": 67,
     "metadata": {},
     "output_type": "execute_result"
    }
   ],
   "source": [
    "proof"
   ]
  },
  {
   "cell_type": "markdown",
   "id": "7722020f-7fea-489e-bceb-40c98fe71b15",
   "metadata": {},
   "source": [
    "# Save current tree state"
   ]
  },
  {
   "cell_type": "code",
   "execution_count": 359,
   "id": "fbc33017-5a95-49c7-86e8-86f91f99d30e",
   "metadata": {},
   "outputs": [],
   "source": [
    "state = tree.get_root_hash()"
   ]
  },
  {
   "cell_type": "markdown",
   "id": "0b026ca7-6b9c-4479-9649-b24247670c69",
   "metadata": {},
   "source": [
    "# Append further leaves"
   ]
  },
  {
   "cell_type": "code",
   "execution_count": 363,
   "id": "c22c89be-2e91-475d-8acd-ebdb6a8e7181",
   "metadata": {},
   "outputs": [],
   "source": [
    "for data in [b'corge', b'grault', b'garlpy']:\n",
    "    tree.encrypt(data)"
   ]
  },
  {
   "cell_type": "markdown",
   "id": "40b7e23e-d698-4741-b5fa-aa4ec28b670f",
   "metadata": {},
   "source": [
    "# Prove and verify saved state"
   ]
  },
  {
   "cell_type": "code",
   "execution_count": 364,
   "id": "03715e70-9fae-4fe4-9d57-54fd6330fff7",
   "metadata": {},
   "outputs": [
    {
     "name": "stdout",
     "output_type": "stream",
     "text": [
      "\n",
      "    ----------------------------------- PROOF ------------------------------------\n",
      "\n",
      "    uuid        : 616e79a4-3f75-11ed-a675-0242ac110002\n",
      "\n",
      "    timestamp   : 1664400889 (Wed Sep 28 21:34:49 2022)\n",
      "    provider    : fcef7358-3f73-11ed-a675-0242ac110002\n",
      "\n",
      "    hash-type   : SHA256\n",
      "    encoding    : UTF-8\n",
      "    security    : ACTIVATED\n",
      "\n",
      "    \n",
      "       [0]   +1   7618cd8c59e5f61ce0316dcb4444254fd313446e83495597986b2e4a67b42966\n",
      "       [1]   +1   416eed5ffe8892e9771acca4f8bfd2c079291e301f9364ce8103ddd337cc5e6a\n",
      "       [2]   -1   0570c973d66716843c3d29166667da6ce4aa99c9439d8762582abb56d3df8c9d\n",
      "\n",
      "    offset      : 1\n",
      "\n",
      "    commitment  : 62778d4e041a000aa17e1ba26024d4a418c8a04ee15ad2ee6c462cf96d4c0fda\n",
      "\n",
      "    -------------------------------- END OF PROOF --------------------------------\n",
      "\n"
     ]
    },
    {
     "data": {
      "text/plain": [
       "True"
      ]
     },
     "execution_count": 364,
     "metadata": {},
     "output_type": "execute_result"
    }
   ],
   "source": [
    "proof = tree.generate_consistency_proof(challenge=state)\n",
    "print(proof)\n",
    "proof.verify()"
   ]
  },
  {
   "cell_type": "code",
   "execution_count": null,
   "id": "9c6df607-953a-4bf4-982f-875360b807f3",
   "metadata": {},
   "outputs": [],
   "source": []
  },
  {
   "cell_type": "code",
   "execution_count": null,
   "id": "1d70a184-3f80-49f8-a909-7f15b1365d47",
   "metadata": {},
   "outputs": [],
   "source": []
  }
 ],
 "metadata": {
  "kernelspec": {
   "display_name": "Python 3 (ipykernel)",
   "language": "python",
   "name": "python3"
  },
  "language_info": {
   "codemirror_mode": {
    "name": "ipython",
    "version": 3
   },
   "file_extension": ".py",
   "mimetype": "text/x-python",
   "name": "python",
   "nbconvert_exporter": "python",
   "pygments_lexer": "ipython3",
   "version": "3.10.6"
  }
 },
 "nbformat": 4,
 "nbformat_minor": 5
}
